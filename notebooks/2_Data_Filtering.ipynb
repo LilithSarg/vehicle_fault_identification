{
 "cells": [
  {
   "cell_type": "markdown",
   "id": "d53bae92-a690-4382-90ab-3ba5d80047b4",
   "metadata": {},
   "source": [
    "## Data Filtering stage"
   ]
  },
  {
   "cell_type": "markdown",
   "id": "02fd363a-a817-4b7a-bfcc-65daf3fd5932",
   "metadata": {},
   "source": [
    "#### filter accident data based on available parameters."
   ]
  },
  {
   "cell_type": "code",
   "execution_count": 1,
   "id": "0322d4c6-20cf-4cc2-8a30-db9578c8b90a",
   "metadata": {},
   "outputs": [],
   "source": [
    "import pandas as pd\n",
    "import numpy as np\n",
    "\n",
    "import matplotlib.pyplot as plt\n",
    "plt.rcParams['figure.figsize'] = (30, 10)\n",
    "import seaborn as sns\n",
    "\n",
    "import warnings\n",
    "warnings.filterwarnings(\"ignore\")\n",
    "from tqdm import tqdm"
   ]
  },
  {
   "cell_type": "code",
   "execution_count": 2,
   "id": "e840ad4d",
   "metadata": {
    "collapsed": false,
    "jupyter": {
     "outputs_hidden": false
    }
   },
   "outputs": [
    {
     "name": "stdout",
     "output_type": "stream",
     "text": [
      "data shape: (446264, 11)\n",
      "N accidents: 175909\n"
     ]
    },
    {
     "data": {
      "text/html": [
       "<div>\n",
       "<style scoped>\n",
       "    .dataframe tbody tr th:only-of-type {\n",
       "        vertical-align: middle;\n",
       "    }\n",
       "\n",
       "    .dataframe tbody tr th {\n",
       "        vertical-align: top;\n",
       "    }\n",
       "\n",
       "    .dataframe thead th {\n",
       "        text-align: right;\n",
       "    }\n",
       "</style>\n",
       "<table border=\"1\" class=\"dataframe\">\n",
       "  <thead>\n",
       "    <tr style=\"text-align: right;\">\n",
       "      <th></th>\n",
       "      <th>compensation_status</th>\n",
       "      <th>accident_id</th>\n",
       "      <th>vehicle_id</th>\n",
       "      <th>fd_decision</th>\n",
       "      <th>circumstances</th>\n",
       "      <th>road_signs</th>\n",
       "      <th>road_surface</th>\n",
       "      <th>visibility</th>\n",
       "      <th>road_conditions</th>\n",
       "      <th>accident_date</th>\n",
       "      <th>address_id</th>\n",
       "    </tr>\n",
       "  </thead>\n",
       "  <tbody>\n",
       "    <tr>\n",
       "      <th>0</th>\n",
       "      <td>VALIDATED_EIF</td>\n",
       "      <td>210</td>\n",
       "      <td>14.0</td>\n",
       "      <td>NG</td>\n",
       "      <td>NaN</td>\n",
       "      <td>NaN</td>\n",
       "      <td>NaN</td>\n",
       "      <td>NaN</td>\n",
       "      <td>NaN</td>\n",
       "      <td>2019-11-01 08:47:00+04:00</td>\n",
       "      <td>60</td>\n",
       "    </tr>\n",
       "    <tr>\n",
       "      <th>1</th>\n",
       "      <td>VALIDATED_EIF</td>\n",
       "      <td>210</td>\n",
       "      <td>13.0</td>\n",
       "      <td>FG</td>\n",
       "      <td>NaN</td>\n",
       "      <td>NaN</td>\n",
       "      <td>NaN</td>\n",
       "      <td>NaN</td>\n",
       "      <td>NaN</td>\n",
       "      <td>2019-11-01 08:47:00+04:00</td>\n",
       "      <td>60</td>\n",
       "    </tr>\n",
       "    <tr>\n",
       "      <th>2</th>\n",
       "      <td>VALIDATED_EIF</td>\n",
       "      <td>216</td>\n",
       "      <td>30.0</td>\n",
       "      <td>NG</td>\n",
       "      <td>NaN</td>\n",
       "      <td>NaN</td>\n",
       "      <td>NaN</td>\n",
       "      <td>NaN</td>\n",
       "      <td>NaN</td>\n",
       "      <td>2019-11-01 08:45:00+04:00</td>\n",
       "      <td>154</td>\n",
       "    </tr>\n",
       "    <tr>\n",
       "      <th>3</th>\n",
       "      <td>VALIDATED_EIF</td>\n",
       "      <td>216</td>\n",
       "      <td>29.0</td>\n",
       "      <td>FG</td>\n",
       "      <td>NaN</td>\n",
       "      <td>NaN</td>\n",
       "      <td>NaN</td>\n",
       "      <td>NaN</td>\n",
       "      <td>NaN</td>\n",
       "      <td>2019-11-01 08:45:00+04:00</td>\n",
       "      <td>154</td>\n",
       "    </tr>\n",
       "    <tr>\n",
       "      <th>4</th>\n",
       "      <td>VALIDATED_EIF</td>\n",
       "      <td>244</td>\n",
       "      <td>47.0</td>\n",
       "      <td>NG</td>\n",
       "      <td>NaN</td>\n",
       "      <td>NaN</td>\n",
       "      <td>NaN</td>\n",
       "      <td>NaN</td>\n",
       "      <td>NaN</td>\n",
       "      <td>2019-11-02 21:40:00+04:00</td>\n",
       "      <td>227</td>\n",
       "    </tr>\n",
       "  </tbody>\n",
       "</table>\n",
       "</div>"
      ],
      "text/plain": [
       "  compensation_status accident_id vehicle_id fd_decision  circumstances  \\\n",
       "0       VALIDATED_EIF         210       14.0          NG            NaN   \n",
       "1       VALIDATED_EIF         210       13.0          FG            NaN   \n",
       "2       VALIDATED_EIF         216       30.0          NG            NaN   \n",
       "3       VALIDATED_EIF         216       29.0          FG            NaN   \n",
       "4       VALIDATED_EIF         244       47.0          NG            NaN   \n",
       "\n",
       "   road_signs  road_surface  visibility  road_conditions  \\\n",
       "0         NaN           NaN         NaN              NaN   \n",
       "1         NaN           NaN         NaN              NaN   \n",
       "2         NaN           NaN         NaN              NaN   \n",
       "3         NaN           NaN         NaN              NaN   \n",
       "4         NaN           NaN         NaN              NaN   \n",
       "\n",
       "              accident_date address_id  \n",
       "0 2019-11-01 08:47:00+04:00         60  \n",
       "1 2019-11-01 08:47:00+04:00         60  \n",
       "2 2019-11-01 08:45:00+04:00        154  \n",
       "3 2019-11-01 08:45:00+04:00        154  \n",
       "4 2019-11-02 21:40:00+04:00        227  "
      ]
     },
     "execution_count": 2,
     "metadata": {},
     "output_type": "execute_result"
    }
   ],
   "source": [
    "df = pd.read_excel('../data/raw/data with translations.xlsx')\n",
    "print(f\"data shape: {df.shape}\")\n",
    "print(f\"N accidents: {df.accident_id.nunique()}\")\n",
    "\n",
    "# initial data prep\n",
    "int_to_str_cols_l = [\n",
    "    \"accident_id\",\n",
    "    \"vehicle_id\",\n",
    "    \"address_id\"\n",
    "]\n",
    "for col in int_to_str_cols_l:\n",
    "    df[col] = df[col].astype(str)\n",
    "df.accident_date = pd.to_datetime(df.accident_date)\n",
    "\n",
    "df.head()"
   ]
  },
  {
   "cell_type": "code",
   "execution_count": 3,
   "id": "be760a72-fd5c-4d09-8db8-230569d93c38",
   "metadata": {},
   "outputs": [
    {
     "name": "stdout",
     "output_type": "stream",
     "text": [
      "We have 4217 number of accidents with known circumstances, road_surface, visibility and road_conditions\n",
      "(18444, 11)\n"
     ]
    }
   ],
   "source": [
    "# filtering out those obseravtions that have full fill data\n",
    "list_available_data = [\n",
    "    df[~pd.isna(df.circumstances)].accident_id.unique(), \n",
    "    df[~pd.isna(df.road_conditions)].accident_id.unique(),\n",
    "    df[~pd.isna(df.visibility)].accident_id.unique(),\n",
    "    df[~pd.isna(df.road_surface)].accident_id.unique()\n",
    "]\n",
    "valid_data_accidents = set.intersection(*map(set,list_available_data))\n",
    "print(f\"We have {len(valid_data_accidents)} number of accidents with known circumstances, road_surface, visibility and road_conditions\")\n",
    "\n",
    "df_full = df[df.accident_id.isin(valid_data_accidents)]\n",
    "print(df_full.shape)"
   ]
  },
  {
   "cell_type": "code",
   "execution_count": 4,
   "id": "7634135f-c9f9-41af-ac76-8f518b7d3d73",
   "metadata": {},
   "outputs": [
    {
     "data": {
      "text/plain": [
       "count                         18444\n",
       "unique                         4123\n",
       "top       2020-05-06 12:00:00+04:00\n",
       "freq                             26\n",
       "first     2018-01-11 08:10:00+04:00\n",
       "last      2021-07-19 01:40:00+04:00\n",
       "Name: accident_date, dtype: object"
      ]
     },
     "execution_count": 4,
     "metadata": {},
     "output_type": "execute_result"
    }
   ],
   "source": [
    "df_full.accident_date = pd.to_datetime(df_full.accident_date)\n",
    "\n",
    "df_full.accident_date.describe()\n"
   ]
  },
  {
   "cell_type": "code",
   "execution_count": 5,
   "id": "7fec3c32-b71c-48cf-88fd-79ba4e3fec23",
   "metadata": {},
   "outputs": [
    {
     "data": {
      "text/plain": [
       "count                        446264\n",
       "unique                       132253\n",
       "top       2020-02-04 10:40:00+04:00\n",
       "freq                             80\n",
       "first     2012-10-20 17:36:00+04:00\n",
       "last      2022-10-18 03:24:00+04:00\n",
       "Name: accident_date, dtype: object"
      ]
     },
     "execution_count": 5,
     "metadata": {},
     "output_type": "execute_result"
    }
   ],
   "source": [
    "df.accident_date.describe()"
   ]
  },
  {
   "cell_type": "code",
   "execution_count": 6,
   "id": "69a7b146",
   "metadata": {
    "collapsed": false,
    "jupyter": {
     "outputs_hidden": false
    }
   },
   "outputs": [
    {
     "data": {
      "text/plain": [
       "Index(['compensation_status', 'accident_id', 'vehicle_id', 'fd_decision',\n",
       "       'circumstances', 'road_signs', 'road_surface', 'visibility',\n",
       "       'road_conditions', 'accident_date', 'address_id'],\n",
       "      dtype='object')"
      ]
     },
     "execution_count": 6,
     "metadata": {},
     "output_type": "execute_result"
    }
   ],
   "source": [
    "df_full.columns"
   ]
  },
  {
   "cell_type": "code",
   "execution_count": 7,
   "id": "5783e2cc",
   "metadata": {
    "collapsed": false,
    "jupyter": {
     "outputs_hidden": false
    }
   },
   "outputs": [],
   "source": [
    "df_full.to_csv('../data/interim/data_bivac_filtered.csv', index=False)"
   ]
  },
  {
   "cell_type": "markdown",
   "id": "e9ea02bf-ce2b-4c60-864a-7a7fa63ab8b8",
   "metadata": {},
   "source": [
    "### Check number of vehicles accident - vise"
   ]
  },
  {
   "cell_type": "code",
   "execution_count": 8,
   "id": "98395e09-c1d3-4152-b82b-054a20d41a71",
   "metadata": {},
   "outputs": [
    {
     "data": {
      "image/png": "[encoded data removed]",
      "text/plain": [
       "<Figure size 432x288 with 1 Axes>"
      ]
     },
     "metadata": {
      "needs_background": "light"
     },
     "output_type": "display_data"
    }
   ],
   "source": [
    "df_temp = df_full[[\"accident_id\", \"vehicle_id\"]]\\\n",
    "            .groupby(\"accident_id\")\\\n",
    "            .agg({'vehicle_id': ['nunique']})\\\n",
    "            .reset_index()\n",
    "df_temp.columns = [\"\".join(col).strip().replace(\"nunique\", \"\") for col in df_temp.columns.values]\n",
    "median_ = int(df_temp.vehicle_id.quantile(0.5))\n",
    "g = sns.boxplot(data=df_temp, x=\"vehicle_id\", color=\"orange\")\n",
    "ymin, ymax = g.get_ylim()\n",
    "g.vlines(x=median_, ymin=ymin, ymax=ymax, color=\"green\")\n",
    "g.text(x=median_, y=ymax-ymax*0.1, s=f\"Meidan={median_}\", color=\"green\")\n",
    "plt.show()"
   ]
  },
  {
   "cell_type": "code",
   "execution_count": 9,
   "id": "741ef2a5-5acb-4e84-b109-f63f7b90be04",
   "metadata": {},
   "outputs": [
    {
     "data": {
      "text/plain": [
       "2    3623\n",
       "3     454\n",
       "4      78\n",
       "1      55\n",
       "5       6\n",
       "6       1\n",
       "Name: vehicle_id, dtype: int64"
      ]
     },
     "execution_count": 9,
     "metadata": {},
     "output_type": "execute_result"
    }
   ],
   "source": [
    "# what we do with accidents with one vehicle only?\n",
    "df_temp.vehicle_id.value_counts()"
   ]
  },
  {
   "cell_type": "markdown",
   "id": "8a057d8b-93ac-4749-a752-0efa1b390a33",
   "metadata": {},
   "source": [
    "### Check fd_decision status"
   ]
  },
  {
   "cell_type": "code",
   "execution_count": 10,
   "id": "605a1311-d09c-4c1b-95db-d01c1615058c",
   "metadata": {},
   "outputs": [
    {
     "data": {
      "text/html": [
       "<div>\n",
       "<style scoped>\n",
       "    .dataframe tbody tr th:only-of-type {\n",
       "        vertical-align: middle;\n",
       "    }\n",
       "\n",
       "    .dataframe tbody tr th {\n",
       "        vertical-align: top;\n",
       "    }\n",
       "\n",
       "    .dataframe thead th {\n",
       "        text-align: right;\n",
       "    }\n",
       "</style>\n",
       "<table border=\"1\" class=\"dataframe\">\n",
       "  <thead>\n",
       "    <tr style=\"text-align: right;\">\n",
       "      <th></th>\n",
       "      <th>accident_id</th>\n",
       "      <th>vehicle_id</th>\n",
       "      <th>fd_decision</th>\n",
       "    </tr>\n",
       "  </thead>\n",
       "  <tbody>\n",
       "    <tr>\n",
       "      <th>3610</th>\n",
       "      <td>81212</td>\n",
       "      <td>1</td>\n",
       "      <td>1</td>\n",
       "    </tr>\n",
       "    <tr>\n",
       "      <th>654</th>\n",
       "      <td>140851</td>\n",
       "      <td>1</td>\n",
       "      <td>1</td>\n",
       "    </tr>\n",
       "    <tr>\n",
       "      <th>2661</th>\n",
       "      <td>58057</td>\n",
       "      <td>1</td>\n",
       "      <td>1</td>\n",
       "    </tr>\n",
       "    <tr>\n",
       "      <th>4038</th>\n",
       "      <td>93689</td>\n",
       "      <td>1</td>\n",
       "      <td>1</td>\n",
       "    </tr>\n",
       "    <tr>\n",
       "      <th>3767</th>\n",
       "      <td>84752</td>\n",
       "      <td>1</td>\n",
       "      <td>1</td>\n",
       "    </tr>\n",
       "    <tr>\n",
       "      <th>...</th>\n",
       "      <td>...</td>\n",
       "      <td>...</td>\n",
       "      <td>...</td>\n",
       "    </tr>\n",
       "    <tr>\n",
       "      <th>1796</th>\n",
       "      <td>31720</td>\n",
       "      <td>5</td>\n",
       "      <td>2</td>\n",
       "    </tr>\n",
       "    <tr>\n",
       "      <th>1956</th>\n",
       "      <td>35010</td>\n",
       "      <td>5</td>\n",
       "      <td>2</td>\n",
       "    </tr>\n",
       "    <tr>\n",
       "      <th>2390</th>\n",
       "      <td>49055</td>\n",
       "      <td>5</td>\n",
       "      <td>2</td>\n",
       "    </tr>\n",
       "    <tr>\n",
       "      <th>3158</th>\n",
       "      <td>69448</td>\n",
       "      <td>5</td>\n",
       "      <td>2</td>\n",
       "    </tr>\n",
       "    <tr>\n",
       "      <th>900</th>\n",
       "      <td>158528</td>\n",
       "      <td>6</td>\n",
       "      <td>2</td>\n",
       "    </tr>\n",
       "  </tbody>\n",
       "</table>\n",
       "<p>4217 rows × 3 columns</p>\n",
       "</div>"
      ],
      "text/plain": [
       "     accident_id  vehicle_id  fd_decision\n",
       "3610       81212           1            1\n",
       "654       140851           1            1\n",
       "2661       58057           1            1\n",
       "4038       93689           1            1\n",
       "3767       84752           1            1\n",
       "...          ...         ...          ...\n",
       "1796       31720           5            2\n",
       "1956       35010           5            2\n",
       "2390       49055           5            2\n",
       "3158       69448           5            2\n",
       "900       158528           6            2\n",
       "\n",
       "[4217 rows x 3 columns]"
      ]
     },
     "execution_count": 10,
     "metadata": {},
     "output_type": "execute_result"
    }
   ],
   "source": [
    "del df_temp\n",
    "df_temp = df_full[\n",
    "    [\n",
    "        \"accident_id\", \n",
    "        \"vehicle_id\", \n",
    "        \"fd_decision\"]\n",
    "    ].groupby([\"accident_id\"]).agg({\"vehicle_id\": [\"nunique\"],\n",
    "                                    \"fd_decision\": [\"nunique\"]})\\\n",
    "    .reset_index()\\\n",
    "    .sort_values(by=('vehicle_id', 'nunique'))\n",
    "df_temp.columns = [\"\".join(col).strip().replace(\"nunique\", \"\") for col in df_temp.columns.values]\n",
    "df_temp"
   ]
  },
  {
   "cell_type": "code",
   "execution_count": 11,
   "id": "9835be74-876c-4c56-a6b5-ee665583ee88",
   "metadata": {},
   "outputs": [
    {
     "name": "stdout",
     "output_type": "stream",
     "text": [
      "we have 3993/4217 number of valid fd_decision accidents\n"
     ]
    }
   ],
   "source": [
    "valid_acc_id_by_fd = df_temp[df_temp.fd_decision==2].accident_id.unique()\n",
    "print(f\"we have {len(valid_acc_id_by_fd)}/{df_full.accident_id.nunique()} number of valid fd_decision accidents\")"
   ]
  },
  {
   "cell_type": "code",
   "execution_count": 12,
   "id": "e1dfa1a9-9ccb-4663-96ba-21053c2cb032",
   "metadata": {},
   "outputs": [
    {
     "name": "stdout",
     "output_type": "stream",
     "text": [
      "we have 55 number of accidents with 1 vehicle and 1 fd_decision\n",
      "we have 0 number of accidents with more than 2 fd_decisions\n"
     ]
    }
   ],
   "source": [
    "print(f\"we have {len(df_temp[(df_temp.vehicle_id==1) & (df_temp.fd_decision==1)])} number of accidents with 1 vehicle and 1 fd_decision\")\n",
    "print(f\"we have {len(df_temp[df_temp.fd_decision>2])} number of accidents with more than 2 fd_decisions\")"
   ]
  },
  {
   "cell_type": "markdown",
   "id": "affa1cfa-40f3-41bb-9781-9c239cc06f1c",
   "metadata": {},
   "source": [
    "### Check percentage of road_signs"
   ]
  },
  {
   "cell_type": "code",
   "execution_count": 13,
   "id": "dd65d901-e37e-49eb-b3c0-cd4bf6188232",
   "metadata": {},
   "outputs": [
    {
     "data": {
      "text/plain": [
       "17"
      ]
     },
     "execution_count": 13,
     "metadata": {},
     "output_type": "execute_result"
    }
   ],
   "source": [
    "df_full[~pd.isna(df_full.road_signs)].accident_id.nunique()"
   ]
  }
 ],
 "metadata": {
  "kernelspec": {
   "display_name": "Python 3 (ipykernel)",
   "language": "python",
   "name": "python3"
  },
  "language_info": {
   "codemirror_mode": {
    "name": "ipython",
    "version": 3
   },
   "file_extension": ".py",
   "mimetype": "text/x-python",
   "name": "python",
   "nbconvert_exporter": "python",
   "pygments_lexer": "ipython3",
   "version": "3.10.4"
  }
 },
 "nbformat": 4,
 "nbformat_minor": 5
}
