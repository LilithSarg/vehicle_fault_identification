{
 "cells": [
  {
   "cell_type": "markdown",
   "id": "2eb0ecf8-dec5-481f-8895-ff3874eb0e38",
   "metadata": {},
   "source": [
    "## Data Preparation stage"
   ]
  },
  {
   "cell_type": "markdown",
   "id": "70d1c977-862c-4db1-91f4-f91adc34bb6e",
   "metadata": {},
   "source": [
    "##### Join raw accident data with fault DB, update parameters"
   ]
  },
  {
   "cell_type": "code",
   "execution_count": 1,
   "id": "f9581f1b-2eb2-4c6d-937b-cf8d5c58b98b",
   "metadata": {},
   "outputs": [],
   "source": [
    "import pandas as pd\n",
    "from tqdm import tqdm\n",
    "from src.data.data_prep import convert_cols_type"
   ]
  },
  {
   "cell_type": "code",
   "execution_count": 2,
   "id": "570ff94d-2976-4c63-b5db-65424bd8afbc",
   "metadata": {},
   "outputs": [
    {
     "name": "stdout",
     "output_type": "stream",
     "text": [
      "Data shape: (18444, 11)\n",
      "N accidents after filtering: 4217\n"
     ]
    }
   ],
   "source": [
    "df_fil = pd.read_csv('../data/interim/data_bivac_filtered.csv')\n",
    "print(f\"Data shape: {df_fil.shape}\")\n",
    "print(f\"N accidents after filtering: {df_fil.accident_id.nunique()}\")"
   ]
  },
  {
   "cell_type": "code",
   "execution_count": 3,
   "id": "93ecc63e-0a72-44c1-83ef-e87c7fb4e513",
   "metadata": {},
   "outputs": [
    {
     "name": "stdout",
     "output_type": "stream",
     "text": [
      "Data shape: (6252, 9)\n",
      "N accidents after in Fault DB: 1173\n"
     ]
    }
   ],
   "source": [
    "df_fau = pd.read_excel('../data/raw/fault with param.xlsx')\n",
    "print(f\"Data shape: {df_fau.shape}\")\n",
    "print(f\"N accidents after in Fault DB: {df_fau.accident_id.nunique()}\")"
   ]
  },
  {
   "cell_type": "code",
   "execution_count": 5,
   "id": "9a80a474-21fb-4029-a2bf-54ab47aa48f9",
   "metadata": {},
   "outputs": [],
   "source": [
    "cat_features_fil = [\n",
    "    'accident_id', \n",
    "    'vehicle_id', \n",
    "    'circumstances', \n",
    "    'road_signs',\n",
    "    'road_surface', \n",
    "    'visibility', \n",
    "    'road_conditions',\n",
    "    'address_id'\n",
    "    ]\n",
    "\n",
    "df_fil.accident_date = pd.to_datetime(df_fil.accident_date)\n",
    "df_fil = convert_cols_type(\n",
    "    df=df_fil,\n",
    "    features_l=cat_features_fil,\n",
    "    type_='str'\n",
    ")"
   ]
  },
  {
   "cell_type": "code",
   "execution_count": 8,
   "id": "c4be7612-aa3c-4dd4-9cb8-eb0149354a65",
   "metadata": {},
   "outputs": [],
   "source": [
    "cat_features_fau = [\n",
    "    'accident_id', \n",
    "    'accident_vehicle_id', \n",
    "    'circumstances', \n",
    "    'road_signs',\n",
    "    'road_surface', \n",
    "    'visibility', \n",
    "    'road_conditions'\n",
    "    ]\n",
    "\n",
    "df_fau = convert_cols_type(\n",
    "    df=df_fau,\n",
    "    features_l=cat_features_fau,\n",
    "    type_='str'\n",
    ")"
   ]
  },
  {
   "cell_type": "code",
   "execution_count": 9,
   "id": "33e5eb62-5c9a-4707-b237-5dd056db1ef8",
   "metadata": {},
   "outputs": [
    {
     "name": "stdout",
     "output_type": "stream",
     "text": [
      "1060 accidents in Fault DB\n",
      "All accidents from Fault DB are in our filtered data: True\n"
     ]
    }
   ],
   "source": [
    "print(f\"{df_fau.accident_id.nunique()} accidents in Fault DB\")\n",
    "print(f\"All accidents from Fault DB are in our filtered data: {df_fil[df_fil.accident_id.isin(df_fau.accident_id.unique())].accident_id.unique() in df_fau.accident_id.unique()}\")"
   ]
  },
  {
   "cell_type": "code",
   "execution_count": 10,
   "outputs": [
    {
     "data": {
      "text/plain": "FP    5246\nFS     868\nFA     138\nName: type, dtype: int64"
     },
     "execution_count": 10,
     "metadata": {},
     "output_type": "execute_result"
    }
   ],
   "source": [
    "df_fau.type.value_counts()"
   ],
   "metadata": {
    "collapsed": false
   }
  },
  {
   "cell_type": "code",
   "execution_count": 11,
   "outputs": [
    {
     "data": {
      "text/plain": "Index(['accident_vehicle_id', 'accident_id', 'type', 'case', 'circumstances',\n       'road_signs', 'road_surface', 'visibility', 'road_conditions'],\n      dtype='object')"
     },
     "execution_count": 11,
     "metadata": {},
     "output_type": "execute_result"
    }
   ],
   "source": [
    "df_fau.columns"
   ],
   "metadata": {
    "collapsed": false
   }
  },
  {
   "cell_type": "code",
   "execution_count": 12,
   "id": "cff1c1a0-7e0b-4729-866a-84e2a1063ad2",
   "metadata": {},
   "outputs": [
    {
     "data": {
      "text/plain": "                                                                                                 case  \\\ntype                                                                                               FA   \naccident_vehicle_id accident_id circumstances road_signs road_surface visibility road_conditions        \n                    51632       12            nan        1            1          1                NaN   \n                                3             nan        1            1          1                NaN   \n                    51642       12            nan        1            1          1                NaN   \n                                4             nan        1            1          1                NaN   \n                    51651       12            nan        nan          nan        nan              NaN   \n...                                                                                               ...   \n99933               47288       35            163        1            1          1                NaN   \n                                              31         1            1          1                NaN   \n                                4             13         1            1          1                NaN   \n                                              163        1            1          1                NaN   \n                                              31         1            1          1                NaN   \n\n                                                                                                      \\\ntype                                                                                              FP   \naccident_vehicle_id accident_id circumstances road_signs road_surface visibility road_conditions       \n                    51632       12            nan        1            1          1                NG   \n                                3             nan        1            1          1                NG   \n                    51642       12            nan        1            1          1                FG   \n                                4             nan        1            1          1                FG   \n                    51651       12            nan        nan          nan        nan              NG   \n...                                                                                               ..   \n99933               47288       35            163        1            1          1                NG   \n                                              31         1            1          1                NG   \n                                4             13         1            1          1                NG   \n                                              163        1            1          1                NG   \n                                              31         1            1          1                NG   \n\n                                                                                                       \ntype                                                                                               FS  \naccident_vehicle_id accident_id circumstances road_signs road_surface visibility road_conditions       \n                    51632       12            nan        1            1          1                NaN  \n                                3             nan        1            1          1                NaN  \n                    51642       12            nan        1            1          1                NaN  \n                                4             nan        1            1          1                NaN  \n                    51651       12            nan        nan          nan        nan              NaN  \n...                                                                                               ...  \n99933               47288       35            163        1            1          1                NaN  \n                                              31         1            1          1                NaN  \n                                4             13         1            1          1                NaN  \n                                              163        1            1          1                NaN  \n                                              31         1            1          1                NaN  \n\n[6209 rows x 3 columns]",
      "text/html": "<div>\n<style scoped>\n    .dataframe tbody tr th:only-of-type {\n        vertical-align: middle;\n    }\n\n    .dataframe tbody tr th {\n        vertical-align: top;\n    }\n\n    .dataframe thead tr th {\n        text-align: left;\n    }\n\n    .dataframe thead tr:last-of-type th {\n        text-align: right;\n    }\n</style>\n<table border=\"1\" class=\"dataframe\">\n  <thead>\n    <tr>\n      <th></th>\n      <th></th>\n      <th></th>\n      <th></th>\n      <th></th>\n      <th></th>\n      <th></th>\n      <th colspan=\"3\" halign=\"left\">case</th>\n    </tr>\n    <tr>\n      <th></th>\n      <th></th>\n      <th></th>\n      <th></th>\n      <th></th>\n      <th></th>\n      <th>type</th>\n      <th>FA</th>\n      <th>FP</th>\n      <th>FS</th>\n    </tr>\n    <tr>\n      <th>accident_vehicle_id</th>\n      <th>accident_id</th>\n      <th>circumstances</th>\n      <th>road_signs</th>\n      <th>road_surface</th>\n      <th>visibility</th>\n      <th>road_conditions</th>\n      <th></th>\n      <th></th>\n      <th></th>\n    </tr>\n  </thead>\n  <tbody>\n    <tr>\n      <th rowspan=\"5\" valign=\"top\"></th>\n      <th rowspan=\"2\" valign=\"top\">51632</th>\n      <th>12</th>\n      <th>nan</th>\n      <th>1</th>\n      <th>1</th>\n      <th>1</th>\n      <td>NaN</td>\n      <td>NG</td>\n      <td>NaN</td>\n    </tr>\n    <tr>\n      <th>3</th>\n      <th>nan</th>\n      <th>1</th>\n      <th>1</th>\n      <th>1</th>\n      <td>NaN</td>\n      <td>NG</td>\n      <td>NaN</td>\n    </tr>\n    <tr>\n      <th rowspan=\"2\" valign=\"top\">51642</th>\n      <th>12</th>\n      <th>nan</th>\n      <th>1</th>\n      <th>1</th>\n      <th>1</th>\n      <td>NaN</td>\n      <td>FG</td>\n      <td>NaN</td>\n    </tr>\n    <tr>\n      <th>4</th>\n      <th>nan</th>\n      <th>1</th>\n      <th>1</th>\n      <th>1</th>\n      <td>NaN</td>\n      <td>FG</td>\n      <td>NaN</td>\n    </tr>\n    <tr>\n      <th>51651</th>\n      <th>12</th>\n      <th>nan</th>\n      <th>nan</th>\n      <th>nan</th>\n      <th>nan</th>\n      <td>NaN</td>\n      <td>NG</td>\n      <td>NaN</td>\n    </tr>\n    <tr>\n      <th>...</th>\n      <th>...</th>\n      <th>...</th>\n      <th>...</th>\n      <th>...</th>\n      <th>...</th>\n      <th>...</th>\n      <td>...</td>\n      <td>...</td>\n      <td>...</td>\n    </tr>\n    <tr>\n      <th rowspan=\"5\" valign=\"top\">99933</th>\n      <th rowspan=\"5\" valign=\"top\">47288</th>\n      <th rowspan=\"2\" valign=\"top\">35</th>\n      <th>163</th>\n      <th>1</th>\n      <th>1</th>\n      <th>1</th>\n      <td>NaN</td>\n      <td>NG</td>\n      <td>NaN</td>\n    </tr>\n    <tr>\n      <th>31</th>\n      <th>1</th>\n      <th>1</th>\n      <th>1</th>\n      <td>NaN</td>\n      <td>NG</td>\n      <td>NaN</td>\n    </tr>\n    <tr>\n      <th rowspan=\"3\" valign=\"top\">4</th>\n      <th>13</th>\n      <th>1</th>\n      <th>1</th>\n      <th>1</th>\n      <td>NaN</td>\n      <td>NG</td>\n      <td>NaN</td>\n    </tr>\n    <tr>\n      <th>163</th>\n      <th>1</th>\n      <th>1</th>\n      <th>1</th>\n      <td>NaN</td>\n      <td>NG</td>\n      <td>NaN</td>\n    </tr>\n    <tr>\n      <th>31</th>\n      <th>1</th>\n      <th>1</th>\n      <th>1</th>\n      <td>NaN</td>\n      <td>NG</td>\n      <td>NaN</td>\n    </tr>\n  </tbody>\n</table>\n<p>6209 rows × 3 columns</p>\n</div>"
     },
     "execution_count": 12,
     "metadata": {},
     "output_type": "execute_result"
    }
   ],
   "source": [
    "df_fau.pivot_table(['case',\n",
    "                    ], ['accident_vehicle_id', 'accident_id', 'circumstances',\n",
    "                    'road_signs',\n",
    "                    'road_surface',\n",
    "                    'visibility',\n",
    "                    'road_conditions'], 'type', aggfunc='first')#.reset_index()"
   ]
  },
  {
   "cell_type": "code",
   "execution_count": 13,
   "outputs": [
    {
     "data": {
      "text/plain": "     accident_vehicle_id accident_id type case circumstances road_signs  \\\n3787                  03       47319   FP   NG             3        nan   \n3788                  03       47319   FP   NG            12        nan   \n3789                  04       47319   FP   FG             2        nan   \n3790                  04       47319   FP   FG            11        nan   \n\n     road_surface visibility road_conditions  \n3787          nan        nan             nan  \n3788          nan        nan             nan  \n3789          nan        nan             nan  \n3790          nan        nan             nan  ",
      "text/html": "<div>\n<style scoped>\n    .dataframe tbody tr th:only-of-type {\n        vertical-align: middle;\n    }\n\n    .dataframe tbody tr th {\n        vertical-align: top;\n    }\n\n    .dataframe thead th {\n        text-align: right;\n    }\n</style>\n<table border=\"1\" class=\"dataframe\">\n  <thead>\n    <tr style=\"text-align: right;\">\n      <th></th>\n      <th>accident_vehicle_id</th>\n      <th>accident_id</th>\n      <th>type</th>\n      <th>case</th>\n      <th>circumstances</th>\n      <th>road_signs</th>\n      <th>road_surface</th>\n      <th>visibility</th>\n      <th>road_conditions</th>\n    </tr>\n  </thead>\n  <tbody>\n    <tr>\n      <th>3787</th>\n      <td>03</td>\n      <td>47319</td>\n      <td>FP</td>\n      <td>NG</td>\n      <td>3</td>\n      <td>nan</td>\n      <td>nan</td>\n      <td>nan</td>\n      <td>nan</td>\n    </tr>\n    <tr>\n      <th>3788</th>\n      <td>03</td>\n      <td>47319</td>\n      <td>FP</td>\n      <td>NG</td>\n      <td>12</td>\n      <td>nan</td>\n      <td>nan</td>\n      <td>nan</td>\n      <td>nan</td>\n    </tr>\n    <tr>\n      <th>3789</th>\n      <td>04</td>\n      <td>47319</td>\n      <td>FP</td>\n      <td>FG</td>\n      <td>2</td>\n      <td>nan</td>\n      <td>nan</td>\n      <td>nan</td>\n      <td>nan</td>\n    </tr>\n    <tr>\n      <th>3790</th>\n      <td>04</td>\n      <td>47319</td>\n      <td>FP</td>\n      <td>FG</td>\n      <td>11</td>\n      <td>nan</td>\n      <td>nan</td>\n      <td>nan</td>\n      <td>nan</td>\n    </tr>\n  </tbody>\n</table>\n</div>"
     },
     "execution_count": 13,
     "metadata": {},
     "output_type": "execute_result"
    }
   ],
   "source": [
    "df_fau[df_fau.accident_id=='47319']"
   ],
   "metadata": {
    "collapsed": false
   }
  },
  {
   "cell_type": "code",
   "execution_count": 14,
   "id": "c9bf21dd-a087-47d4-9eed-ee22d8f66ce1",
   "metadata": {},
   "outputs": [
    {
     "data": {
      "text/plain": "     compensation_status accident_id vehicle_id fd_decision circumstances  \\\n4713       VALIDATED_EIF       47319      74265          NG             3   \n4714       VALIDATED_EIF       47319      74265          NG            12   \n4715       VALIDATED_EIF       47319      74265          NG            25   \n4716       VALIDATED_EIF       47319      74265          NG                 \n4717       VALIDATED_EIF       47319      74263          FG             4   \n4718       VALIDATED_EIF       47319      74263          FG            12   \n4719       VALIDATED_EIF       47319      74263          FG            19   \n4720       VALIDATED_EIF       47319      74263          FG            35   \n\n     road_signs road_surface visibility road_conditions  \\\n4713        nan            1          1               1   \n4714        nan            1          1               1   \n4715        nan            1          1               1   \n4716        nan            1          1               1   \n4717        nan            1          1               1   \n4718        nan            1          1               1   \n4719        nan            1          1               1   \n4720        nan            1          1               1   \n\n                 accident_date address_id  \n4713 2020-05-31 12:11:00+04:00       6146  \n4714 2020-05-31 12:11:00+04:00       6146  \n4715 2020-05-31 12:11:00+04:00       6146  \n4716 2020-05-31 12:11:00+04:00       6146  \n4717 2020-05-31 12:11:00+04:00       6146  \n4718 2020-05-31 12:11:00+04:00       6146  \n4719 2020-05-31 12:11:00+04:00       6146  \n4720 2020-05-31 12:11:00+04:00       6146  ",
      "text/html": "<div>\n<style scoped>\n    .dataframe tbody tr th:only-of-type {\n        vertical-align: middle;\n    }\n\n    .dataframe tbody tr th {\n        vertical-align: top;\n    }\n\n    .dataframe thead th {\n        text-align: right;\n    }\n</style>\n<table border=\"1\" class=\"dataframe\">\n  <thead>\n    <tr style=\"text-align: right;\">\n      <th></th>\n      <th>compensation_status</th>\n      <th>accident_id</th>\n      <th>vehicle_id</th>\n      <th>fd_decision</th>\n      <th>circumstances</th>\n      <th>road_signs</th>\n      <th>road_surface</th>\n      <th>visibility</th>\n      <th>road_conditions</th>\n      <th>accident_date</th>\n      <th>address_id</th>\n    </tr>\n  </thead>\n  <tbody>\n    <tr>\n      <th>4713</th>\n      <td>VALIDATED_EIF</td>\n      <td>47319</td>\n      <td>74265</td>\n      <td>NG</td>\n      <td>3</td>\n      <td>nan</td>\n      <td>1</td>\n      <td>1</td>\n      <td>1</td>\n      <td>2020-05-31 12:11:00+04:00</td>\n      <td>6146</td>\n    </tr>\n    <tr>\n      <th>4714</th>\n      <td>VALIDATED_EIF</td>\n      <td>47319</td>\n      <td>74265</td>\n      <td>NG</td>\n      <td>12</td>\n      <td>nan</td>\n      <td>1</td>\n      <td>1</td>\n      <td>1</td>\n      <td>2020-05-31 12:11:00+04:00</td>\n      <td>6146</td>\n    </tr>\n    <tr>\n      <th>4715</th>\n      <td>VALIDATED_EIF</td>\n      <td>47319</td>\n      <td>74265</td>\n      <td>NG</td>\n      <td>25</td>\n      <td>nan</td>\n      <td>1</td>\n      <td>1</td>\n      <td>1</td>\n      <td>2020-05-31 12:11:00+04:00</td>\n      <td>6146</td>\n    </tr>\n    <tr>\n      <th>4716</th>\n      <td>VALIDATED_EIF</td>\n      <td>47319</td>\n      <td>74265</td>\n      <td>NG</td>\n      <td></td>\n      <td>nan</td>\n      <td>1</td>\n      <td>1</td>\n      <td>1</td>\n      <td>2020-05-31 12:11:00+04:00</td>\n      <td>6146</td>\n    </tr>\n    <tr>\n      <th>4717</th>\n      <td>VALIDATED_EIF</td>\n      <td>47319</td>\n      <td>74263</td>\n      <td>FG</td>\n      <td>4</td>\n      <td>nan</td>\n      <td>1</td>\n      <td>1</td>\n      <td>1</td>\n      <td>2020-05-31 12:11:00+04:00</td>\n      <td>6146</td>\n    </tr>\n    <tr>\n      <th>4718</th>\n      <td>VALIDATED_EIF</td>\n      <td>47319</td>\n      <td>74263</td>\n      <td>FG</td>\n      <td>12</td>\n      <td>nan</td>\n      <td>1</td>\n      <td>1</td>\n      <td>1</td>\n      <td>2020-05-31 12:11:00+04:00</td>\n      <td>6146</td>\n    </tr>\n    <tr>\n      <th>4719</th>\n      <td>VALIDATED_EIF</td>\n      <td>47319</td>\n      <td>74263</td>\n      <td>FG</td>\n      <td>19</td>\n      <td>nan</td>\n      <td>1</td>\n      <td>1</td>\n      <td>1</td>\n      <td>2020-05-31 12:11:00+04:00</td>\n      <td>6146</td>\n    </tr>\n    <tr>\n      <th>4720</th>\n      <td>VALIDATED_EIF</td>\n      <td>47319</td>\n      <td>74263</td>\n      <td>FG</td>\n      <td>35</td>\n      <td>nan</td>\n      <td>1</td>\n      <td>1</td>\n      <td>1</td>\n      <td>2020-05-31 12:11:00+04:00</td>\n      <td>6146</td>\n    </tr>\n  </tbody>\n</table>\n</div>"
     },
     "execution_count": 14,
     "metadata": {},
     "output_type": "execute_result"
    }
   ],
   "source": [
    "df_fil[df_fil.accident_id=='47319']"
   ]
  },
  {
   "cell_type": "code",
   "execution_count": 15,
   "outputs": [
    {
     "data": {
      "text/plain": "     accident_vehicle_id accident_id type case circumstances road_signs  \\\n0                  34467       16141   FP   FG             2        nan   \n1                  34467       16141   FP   FG            12        nan   \n2                  34468       16141   FP   FG             2        nan   \n3                  34468       16141   FP   FG            12        nan   \n4                  34521       16169   FP   FG             2        nan   \n...                  ...         ...  ...  ...           ...        ...   \n6247                1281         717   FP   FG             3        269   \n6248                1281         717   FP   FG            12        269   \n6249                1281         717   FP   FG            13        269   \n6250              128191         717   FP   NG             2        269   \n6251              128191         717   FP   NG            12        269   \n\n     road_surface visibility road_conditions  \n0             nan        nan             nan  \n1             nan        nan             nan  \n2             nan        nan             nan  \n3             nan        nan             nan  \n4               1          1               1  \n...           ...        ...             ...  \n6247            1          1               1  \n6248            1          1               1  \n6249            1          1               1  \n6250            1          1               1  \n6251            1          1               1  \n\n[6252 rows x 9 columns]",
      "text/html": "<div>\n<style scoped>\n    .dataframe tbody tr th:only-of-type {\n        vertical-align: middle;\n    }\n\n    .dataframe tbody tr th {\n        vertical-align: top;\n    }\n\n    .dataframe thead th {\n        text-align: right;\n    }\n</style>\n<table border=\"1\" class=\"dataframe\">\n  <thead>\n    <tr style=\"text-align: right;\">\n      <th></th>\n      <th>accident_vehicle_id</th>\n      <th>accident_id</th>\n      <th>type</th>\n      <th>case</th>\n      <th>circumstances</th>\n      <th>road_signs</th>\n      <th>road_surface</th>\n      <th>visibility</th>\n      <th>road_conditions</th>\n    </tr>\n  </thead>\n  <tbody>\n    <tr>\n      <th>0</th>\n      <td>34467</td>\n      <td>16141</td>\n      <td>FP</td>\n      <td>FG</td>\n      <td>2</td>\n      <td>nan</td>\n      <td>nan</td>\n      <td>nan</td>\n      <td>nan</td>\n    </tr>\n    <tr>\n      <th>1</th>\n      <td>34467</td>\n      <td>16141</td>\n      <td>FP</td>\n      <td>FG</td>\n      <td>12</td>\n      <td>nan</td>\n      <td>nan</td>\n      <td>nan</td>\n      <td>nan</td>\n    </tr>\n    <tr>\n      <th>2</th>\n      <td>34468</td>\n      <td>16141</td>\n      <td>FP</td>\n      <td>FG</td>\n      <td>2</td>\n      <td>nan</td>\n      <td>nan</td>\n      <td>nan</td>\n      <td>nan</td>\n    </tr>\n    <tr>\n      <th>3</th>\n      <td>34468</td>\n      <td>16141</td>\n      <td>FP</td>\n      <td>FG</td>\n      <td>12</td>\n      <td>nan</td>\n      <td>nan</td>\n      <td>nan</td>\n      <td>nan</td>\n    </tr>\n    <tr>\n      <th>4</th>\n      <td>34521</td>\n      <td>16169</td>\n      <td>FP</td>\n      <td>FG</td>\n      <td>2</td>\n      <td>nan</td>\n      <td>1</td>\n      <td>1</td>\n      <td>1</td>\n    </tr>\n    <tr>\n      <th>...</th>\n      <td>...</td>\n      <td>...</td>\n      <td>...</td>\n      <td>...</td>\n      <td>...</td>\n      <td>...</td>\n      <td>...</td>\n      <td>...</td>\n      <td>...</td>\n    </tr>\n    <tr>\n      <th>6247</th>\n      <td>1281</td>\n      <td>717</td>\n      <td>FP</td>\n      <td>FG</td>\n      <td>3</td>\n      <td>269</td>\n      <td>1</td>\n      <td>1</td>\n      <td>1</td>\n    </tr>\n    <tr>\n      <th>6248</th>\n      <td>1281</td>\n      <td>717</td>\n      <td>FP</td>\n      <td>FG</td>\n      <td>12</td>\n      <td>269</td>\n      <td>1</td>\n      <td>1</td>\n      <td>1</td>\n    </tr>\n    <tr>\n      <th>6249</th>\n      <td>1281</td>\n      <td>717</td>\n      <td>FP</td>\n      <td>FG</td>\n      <td>13</td>\n      <td>269</td>\n      <td>1</td>\n      <td>1</td>\n      <td>1</td>\n    </tr>\n    <tr>\n      <th>6250</th>\n      <td>128191</td>\n      <td>717</td>\n      <td>FP</td>\n      <td>NG</td>\n      <td>2</td>\n      <td>269</td>\n      <td>1</td>\n      <td>1</td>\n      <td>1</td>\n    </tr>\n    <tr>\n      <th>6251</th>\n      <td>128191</td>\n      <td>717</td>\n      <td>FP</td>\n      <td>NG</td>\n      <td>12</td>\n      <td>269</td>\n      <td>1</td>\n      <td>1</td>\n      <td>1</td>\n    </tr>\n  </tbody>\n</table>\n<p>6252 rows × 9 columns</p>\n</div>"
     },
     "execution_count": 15,
     "metadata": {},
     "output_type": "execute_result"
    }
   ],
   "source": [
    "df_fau"
   ],
   "metadata": {
    "collapsed": false
   }
  },
  {
   "cell_type": "code",
   "execution_count": 16,
   "outputs": [],
   "source": [
    "df = df_fil.copy()\n",
    "# in the future df should be the dataframe with updated features from fault db and with the FINAL decision on fd_status"
   ],
   "metadata": {
    "collapsed": false
   }
  },
  {
   "cell_type": "markdown",
   "id": "c951bf58-390a-4f86-92e5-b154313f4854",
   "metadata": {},
   "source": [
    "### Get categories names"
   ]
  },
  {
   "cell_type": "code",
   "execution_count": 17,
   "outputs": [],
   "source": [
    "cat_features = [\n",
    "    'circumstances',\n",
    "    'road_signs',\n",
    "    'road_surface',\n",
    "    'visibility',\n",
    "    'road_conditions'\n",
    "]"
   ],
   "metadata": {
    "collapsed": false
   }
  },
  {
   "cell_type": "code",
   "execution_count": 18,
   "id": "8a28aa54-00ec-48d0-999d-36b148db35cb",
   "metadata": {},
   "outputs": [
    {
     "name": "stderr",
     "output_type": "stream",
     "text": [
      "100%|██████████| 5/5 [00:09<00:00,  1.99s/it]"
     ]
    },
    {
     "name": "stdout",
     "output_type": "stream",
     "text": [
      "(18444, 16)\n"
     ]
    },
    {
     "name": "stderr",
     "output_type": "stream",
     "text": [
      "\n"
     ]
    },
    {
     "data": {
      "text/plain": "  compensation_status accident_id vehicle_id fd_decision   circumstances  \\\n0       VALIDATED_EIF       16141      26245          NG             NaN   \n1       VALIDATED_EIF       16141      26244          FG           First   \n2       VALIDATED_EIF       16141      26244          FG  Direct traffic   \n3       VALIDATED_EIF       16141      26244          FG           Green   \n4       VALIDATED_EIF       16169      26324          NG           First   \n\n  road_signs      road_surface   visibility road_conditions  \\\n0        NaN  Asphalt-concrete  Clear night             Dry   \n1        NaN  Asphalt-concrete  Clear night             Dry   \n2        NaN  Asphalt-concrete  Clear night             Dry   \n3        NaN  Asphalt-concrete  Clear night             Dry   \n4        NaN  Asphalt-concrete    Clear day             Wet   \n\n              accident_date address_id circumstances_id road_signs_id  \\\n0 2020-02-01 01:30:00+04:00     141147              nan           nan   \n1 2020-02-01 01:30:00+04:00     141147                2           nan   \n2 2020-02-01 01:30:00+04:00     141147               12           nan   \n3 2020-02-01 01:30:00+04:00     141147               35           nan   \n4 2020-02-01 18:00:00+04:00     141548                2           nan   \n\n  road_surface_id visibility_id road_conditions_id  \n0               1             2                  1  \n1               1             2                  1  \n2               1             2                  1  \n3               1             2                  1  \n4               1             1                  2  ",
      "text/html": "<div>\n<style scoped>\n    .dataframe tbody tr th:only-of-type {\n        vertical-align: middle;\n    }\n\n    .dataframe tbody tr th {\n        vertical-align: top;\n    }\n\n    .dataframe thead th {\n        text-align: right;\n    }\n</style>\n<table border=\"1\" class=\"dataframe\">\n  <thead>\n    <tr style=\"text-align: right;\">\n      <th></th>\n      <th>compensation_status</th>\n      <th>accident_id</th>\n      <th>vehicle_id</th>\n      <th>fd_decision</th>\n      <th>circumstances</th>\n      <th>road_signs</th>\n      <th>road_surface</th>\n      <th>visibility</th>\n      <th>road_conditions</th>\n      <th>accident_date</th>\n      <th>address_id</th>\n      <th>circumstances_id</th>\n      <th>road_signs_id</th>\n      <th>road_surface_id</th>\n      <th>visibility_id</th>\n      <th>road_conditions_id</th>\n    </tr>\n  </thead>\n  <tbody>\n    <tr>\n      <th>0</th>\n      <td>VALIDATED_EIF</td>\n      <td>16141</td>\n      <td>26245</td>\n      <td>NG</td>\n      <td>NaN</td>\n      <td>NaN</td>\n      <td>Asphalt-concrete</td>\n      <td>Clear night</td>\n      <td>Dry</td>\n      <td>2020-02-01 01:30:00+04:00</td>\n      <td>141147</td>\n      <td>nan</td>\n      <td>nan</td>\n      <td>1</td>\n      <td>2</td>\n      <td>1</td>\n    </tr>\n    <tr>\n      <th>1</th>\n      <td>VALIDATED_EIF</td>\n      <td>16141</td>\n      <td>26244</td>\n      <td>FG</td>\n      <td>First</td>\n      <td>NaN</td>\n      <td>Asphalt-concrete</td>\n      <td>Clear night</td>\n      <td>Dry</td>\n      <td>2020-02-01 01:30:00+04:00</td>\n      <td>141147</td>\n      <td>2</td>\n      <td>nan</td>\n      <td>1</td>\n      <td>2</td>\n      <td>1</td>\n    </tr>\n    <tr>\n      <th>2</th>\n      <td>VALIDATED_EIF</td>\n      <td>16141</td>\n      <td>26244</td>\n      <td>FG</td>\n      <td>Direct traffic</td>\n      <td>NaN</td>\n      <td>Asphalt-concrete</td>\n      <td>Clear night</td>\n      <td>Dry</td>\n      <td>2020-02-01 01:30:00+04:00</td>\n      <td>141147</td>\n      <td>12</td>\n      <td>nan</td>\n      <td>1</td>\n      <td>2</td>\n      <td>1</td>\n    </tr>\n    <tr>\n      <th>3</th>\n      <td>VALIDATED_EIF</td>\n      <td>16141</td>\n      <td>26244</td>\n      <td>FG</td>\n      <td>Green</td>\n      <td>NaN</td>\n      <td>Asphalt-concrete</td>\n      <td>Clear night</td>\n      <td>Dry</td>\n      <td>2020-02-01 01:30:00+04:00</td>\n      <td>141147</td>\n      <td>35</td>\n      <td>nan</td>\n      <td>1</td>\n      <td>2</td>\n      <td>1</td>\n    </tr>\n    <tr>\n      <th>4</th>\n      <td>VALIDATED_EIF</td>\n      <td>16169</td>\n      <td>26324</td>\n      <td>NG</td>\n      <td>First</td>\n      <td>NaN</td>\n      <td>Asphalt-concrete</td>\n      <td>Clear day</td>\n      <td>Wet</td>\n      <td>2020-02-01 18:00:00+04:00</td>\n      <td>141548</td>\n      <td>2</td>\n      <td>nan</td>\n      <td>1</td>\n      <td>1</td>\n      <td>2</td>\n    </tr>\n  </tbody>\n</table>\n</div>"
     },
     "execution_count": 18,
     "metadata": {},
     "output_type": "execute_result"
    }
   ],
   "source": [
    "l_category_decoding = []\n",
    "for sheet_name in tqdm(cat_features):\n",
    "    df_temp = pd.read_excel('../data/raw/data with translations.xlsx', sheet_name=sheet_name)\n",
    "    dict_temp = dict(zip(df_temp.iloc[:, 0].astype(str), df_temp.iloc[:, 1]))\n",
    "    df[f\"{sheet_name}_id\"] = df[sheet_name]\n",
    "    df[sheet_name] = df[f\"{sheet_name}_id\"].map(dict_temp)\n",
    "\n",
    "    l_category_decoding.append({sheet_name: dict_temp})\n",
    "    \n",
    "print(df.shape)\n",
    "df.head()"
   ]
  },
  {
   "cell_type": "code",
   "execution_count": 19,
   "id": "81e0c8b9-2630-481c-873c-0dcbfd2b3ecf",
   "metadata": {},
   "outputs": [],
   "source": [
    "import json\n",
    "with open('../data/processed/feature_decoding.json', 'w') as f:\n",
    "    json.dump(l_category_decoding, f)"
   ]
  },
  {
   "cell_type": "markdown",
   "source": [
    "### Feature Engineering"
   ],
   "metadata": {
    "collapsed": false
   }
  },
  {
   "cell_type": "code",
   "execution_count": 20,
   "outputs": [
    {
     "name": "stdout",
     "output_type": "stream",
     "text": [
      "Cardinality: 63\n"
     ]
    }
   ],
   "source": [
    "num_cardinality = 0\n",
    "dummy_col_names = []\n",
    "for feature in cat_features:\n",
    "    l_unique_vals = df[feature].unique()\n",
    "    n_unique_vals = len(l_unique_vals)\n",
    "    l_range_nunique = [i for i in range(n_unique_vals)] # noqa\n",
    "\n",
    "    num_cardinality += n_unique_vals\n",
    "    l_ind_value_name = [f\"{feature}_{i}\" for i in l_unique_vals]\n",
    "    dummy_col_names = dummy_col_names + l_ind_value_name\n",
    "\n",
    "\n",
    "print(f\"Cardinality: {num_cardinality}\")"
   ],
   "metadata": {
    "collapsed": false
   }
  },
  {
   "cell_type": "code",
   "execution_count": 36,
   "outputs": [
    {
     "name": "stdout",
     "output_type": "stream",
     "text": [
      "(18444, 68)\n"
     ]
    },
    {
     "data": {
      "text/plain": "            circumstances_Alarm signal  circumstances_Backward motion  \\\nvehicle_id                                                              \n26245                                0                              0   \n26244                                0                              0   \n26244                                0                              0   \n26244                                0                              0   \n26324                                0                              0   \n\n            circumstances_Beginning of traffic  circumstances_Breaking  \\\nvehicle_id                                                               \n26245                                        0                       0   \n26244                                        0                       0   \n26244                                        0                       0   \n26244                                        0                       0   \n26324                                        0                       0   \n\n            circumstances_Detour  circumstances_Direct traffic  \\\nvehicle_id                                                       \n26245                          0                             0   \n26244                          0                             0   \n26244                          0                             1   \n26244                          0                             0   \n26324                          0                             0   \n\n            circumstances_Fifth  circumstances_First  \\\nvehicle_id                                             \n26245                         0                    0   \n26244                         0                    1   \n26244                         0                    0   \n26244                         0                    0   \n26324                         0                    1   \n\n            circumstances_Fog lights  circumstances_Fourth  ...  \\\nvehicle_id                                                  ...   \n26245                              0                     0  ...   \n26244                              0                     0  ...   \n26244                              0                     0  ...   \n26244                              0                     0  ...   \n26324                              0                     0  ...   \n\n            road_conditions_Other  road_conditions_Snow  road_conditions_Wet  \\\nvehicle_id                                                                     \n26245                           0                     0                    0   \n26244                           0                     0                    0   \n26244                           0                     0                    0   \n26244                           0                     0                    0   \n26324                           0                     0                    1   \n\n            fd_decision_FG  fd_decision_NG  hour  day_of_month  month  year  \\\nvehicle_id                                                                    \n26245                    0               1     1             1      2  2020   \n26244                    1               0     1             1      2  2020   \n26244                    1               0     1             1      2  2020   \n26244                    1               0     1             1      2  2020   \n26324                    0               1    18             1      2  2020   \n\n            n_vehicles_left_in_accident  \nvehicle_id                               \n26245                                 2  \n26244                                 2  \n26244                                 2  \n26244                                 2  \n26324                                 2  \n\n[5 rows x 68 columns]",
      "text/html": "<div>\n<style scoped>\n    .dataframe tbody tr th:only-of-type {\n        vertical-align: middle;\n    }\n\n    .dataframe tbody tr th {\n        vertical-align: top;\n    }\n\n    .dataframe thead th {\n        text-align: right;\n    }\n</style>\n<table border=\"1\" class=\"dataframe\">\n  <thead>\n    <tr style=\"text-align: right;\">\n      <th></th>\n      <th>circumstances_Alarm signal</th>\n      <th>circumstances_Backward motion</th>\n      <th>circumstances_Beginning of traffic</th>\n      <th>circumstances_Breaking</th>\n      <th>circumstances_Detour</th>\n      <th>circumstances_Direct traffic</th>\n      <th>circumstances_Fifth</th>\n      <th>circumstances_First</th>\n      <th>circumstances_Fog lights</th>\n      <th>circumstances_Fourth</th>\n      <th>...</th>\n      <th>road_conditions_Other</th>\n      <th>road_conditions_Snow</th>\n      <th>road_conditions_Wet</th>\n      <th>fd_decision_FG</th>\n      <th>fd_decision_NG</th>\n      <th>hour</th>\n      <th>day_of_month</th>\n      <th>month</th>\n      <th>year</th>\n      <th>n_vehicles_left_in_accident</th>\n    </tr>\n    <tr>\n      <th>vehicle_id</th>\n      <th></th>\n      <th></th>\n      <th></th>\n      <th></th>\n      <th></th>\n      <th></th>\n      <th></th>\n      <th></th>\n      <th></th>\n      <th></th>\n      <th></th>\n      <th></th>\n      <th></th>\n      <th></th>\n      <th></th>\n      <th></th>\n      <th></th>\n      <th></th>\n      <th></th>\n      <th></th>\n      <th></th>\n    </tr>\n  </thead>\n  <tbody>\n    <tr>\n      <th>26245</th>\n      <td>0</td>\n      <td>0</td>\n      <td>0</td>\n      <td>0</td>\n      <td>0</td>\n      <td>0</td>\n      <td>0</td>\n      <td>0</td>\n      <td>0</td>\n      <td>0</td>\n      <td>...</td>\n      <td>0</td>\n      <td>0</td>\n      <td>0</td>\n      <td>0</td>\n      <td>1</td>\n      <td>1</td>\n      <td>1</td>\n      <td>2</td>\n      <td>2020</td>\n      <td>2</td>\n    </tr>\n    <tr>\n      <th>26244</th>\n      <td>0</td>\n      <td>0</td>\n      <td>0</td>\n      <td>0</td>\n      <td>0</td>\n      <td>0</td>\n      <td>0</td>\n      <td>1</td>\n      <td>0</td>\n      <td>0</td>\n      <td>...</td>\n      <td>0</td>\n      <td>0</td>\n      <td>0</td>\n      <td>1</td>\n      <td>0</td>\n      <td>1</td>\n      <td>1</td>\n      <td>2</td>\n      <td>2020</td>\n      <td>2</td>\n    </tr>\n    <tr>\n      <th>26244</th>\n      <td>0</td>\n      <td>0</td>\n      <td>0</td>\n      <td>0</td>\n      <td>0</td>\n      <td>1</td>\n      <td>0</td>\n      <td>0</td>\n      <td>0</td>\n      <td>0</td>\n      <td>...</td>\n      <td>0</td>\n      <td>0</td>\n      <td>0</td>\n      <td>1</td>\n      <td>0</td>\n      <td>1</td>\n      <td>1</td>\n      <td>2</td>\n      <td>2020</td>\n      <td>2</td>\n    </tr>\n    <tr>\n      <th>26244</th>\n      <td>0</td>\n      <td>0</td>\n      <td>0</td>\n      <td>0</td>\n      <td>0</td>\n      <td>0</td>\n      <td>0</td>\n      <td>0</td>\n      <td>0</td>\n      <td>0</td>\n      <td>...</td>\n      <td>0</td>\n      <td>0</td>\n      <td>0</td>\n      <td>1</td>\n      <td>0</td>\n      <td>1</td>\n      <td>1</td>\n      <td>2</td>\n      <td>2020</td>\n      <td>2</td>\n    </tr>\n    <tr>\n      <th>26324</th>\n      <td>0</td>\n      <td>0</td>\n      <td>0</td>\n      <td>0</td>\n      <td>0</td>\n      <td>0</td>\n      <td>0</td>\n      <td>1</td>\n      <td>0</td>\n      <td>0</td>\n      <td>...</td>\n      <td>0</td>\n      <td>0</td>\n      <td>1</td>\n      <td>0</td>\n      <td>1</td>\n      <td>18</td>\n      <td>1</td>\n      <td>2</td>\n      <td>2020</td>\n      <td>2</td>\n    </tr>\n  </tbody>\n</table>\n<p>5 rows × 68 columns</p>\n</div>"
     },
     "execution_count": 36,
     "metadata": {},
     "output_type": "execute_result"
    }
   ],
   "source": [
    "# One hot encoding\n",
    "df_prep = pd.get_dummies(df, columns=cat_features + ['fd_decision'])\n",
    "\n",
    "# daytime features\n",
    "df_prep['hour'] = df_prep.accident_date.dt.hour\n",
    "df_prep['day_of_month'] = df_prep.accident_date.dt.day\n",
    "df_prep['month'] = df_prep.accident_date.dt.month\n",
    "df_prep['year'] = df_prep.accident_date.dt.year\n",
    "\n",
    "# accident level features\n",
    "df_temp = df[['accident_id', 'vehicle_id']].groupby('accident_id').agg({\"vehicle_id\": [\"nunique\"]}).reset_index()\n",
    "df_temp.columns = [\"\".join(col).strip().replace(\"nunique\", \"\") for col in df_temp.columns.values]\n",
    "dict_acc_veh_count = dict(zip(df_temp.accident_id, df_temp.vehicle_id))\n",
    "\n",
    "df_prep['n_vehicles_left_in_accident'] = df_prep.accident_id.map(dict_acc_veh_count)\n",
    "\n",
    "cols_to_drop = [f\"{col}_id\" for col in cat_features] + \\\n",
    "               [\n",
    "    'compensation_status',\n",
    "    'address_id',\n",
    "    'accident_date',\n",
    "    'accident_id'\n",
    "               ]\n",
    "\n",
    "\n",
    "df_prep = df_prep.drop(cols_to_drop, axis=1).set_index('vehicle_id')\n",
    "print(df_prep.shape)\n",
    "df_prep.head()"
   ],
   "metadata": {
    "collapsed": false
   }
  },
  {
   "cell_type": "code",
   "execution_count": 38,
   "outputs": [],
   "source": [
    "df_prep.to_csv('../data/processed/data_prepared.csv')"
   ],
   "metadata": {
    "collapsed": false
   }
  }
 ],
 "metadata": {
  "kernelspec": {
   "display_name": "Python 3 (ipykernel)",
   "language": "python",
   "name": "python3"
  },
  "language_info": {
   "codemirror_mode": {
    "name": "ipython",
    "version": 3
   },
   "file_extension": ".py",
   "mimetype": "text/x-python",
   "name": "python",
   "nbconvert_exporter": "python",
   "pygments_lexer": "ipython3",
   "version": "3.10.4"
  }
 },
 "nbformat": 4,
 "nbformat_minor": 5
}
