{
 "cells": [
  {
   "cell_type": "markdown",
   "id": "2eb0ecf8-dec5-481f-8895-ff3874eb0e38",
   "metadata": {},
   "source": [
    "## Data Preparation stage"
   ]
  },
  {
   "cell_type": "markdown",
   "id": "70d1c977-862c-4db1-91f4-f91adc34bb6e",
   "metadata": {},
   "source": [
    "##### Join raw accident data with fault DB, update parameters"
   ]
  },
  {
   "cell_type": "code",
   "execution_count": 1,
   "id": "f9581f1b-2eb2-4c6d-937b-cf8d5c58b98b",
   "metadata": {},
   "outputs": [
    {
     "ename": "ModuleNotFoundError",
     "evalue": "No module named 'src'",
     "output_type": "error",
     "traceback": [
      "\u001b[0;31m---------------------------------------------------------------------------\u001b[0m",
      "\u001b[0;31mModuleNotFoundError\u001b[0m                       Traceback (most recent call last)",
      "Input \u001b[0;32mIn [1]\u001b[0m, in \u001b[0;36m<cell line: 2>\u001b[0;34m()\u001b[0m\n\u001b[1;32m      1\u001b[0m \u001b[38;5;28;01mimport\u001b[39;00m \u001b[38;5;21;01mpandas\u001b[39;00m \u001b[38;5;28;01mas\u001b[39;00m \u001b[38;5;21;01mpd\u001b[39;00m\n\u001b[0;32m----> 2\u001b[0m \u001b[38;5;28;01mfrom\u001b[39;00m \u001b[38;5;21;01msrc\u001b[39;00m\u001b[38;5;21;01m.\u001b[39;00m\u001b[38;5;21;01mdata\u001b[39;00m\u001b[38;5;21;01m.\u001b[39;00m\u001b[38;5;21;01mdata_prep\u001b[39;00m \u001b[38;5;28;01mimport\u001b[39;00m convert_cols_types\n",
      "\u001b[0;31mModuleNotFoundError\u001b[0m: No module named 'src'"
     ]
    }
   ],
   "source": [
    "import pandas as pd\n",
    "from src.data.data_prep import convert_cols_types"
   ]
  },
  {
   "cell_type": "code",
   "execution_count": 2,
   "id": "570ff94d-2976-4c63-b5db-65424bd8afbc",
   "metadata": {},
   "outputs": [
    {
     "name": "stdout",
     "output_type": "stream",
     "text": [
      "Data shape: (18444, 11)\n",
      "N accidents after filtering: 4217\n"
     ]
    }
   ],
   "source": [
    "df_fil = pd.read_csv('../data/interim/data_bivac_filtered.csv')\n",
    "print(f\"Data shape: {df_fil.shape}\")\n",
    "print(f\"N accidents after filtering: {df_fil.accident_id.nunique()}\")"
   ]
  },
  {
   "cell_type": "code",
   "execution_count": 3,
   "id": "93ecc63e-0a72-44c1-83ef-e87c7fb4e513",
   "metadata": {},
   "outputs": [
    {
     "name": "stdout",
     "output_type": "stream",
     "text": [
      "Data shape: (6252, 9)\n",
      "N accidents after in Fault DB: 1173\n"
     ]
    }
   ],
   "source": [
    "df_fau = pd.read_excel('../data/raw/fault with param.xlsx')\n",
    "print(f\"Data shape: {df_fau.shape}\")\n",
    "print(f\"N accidents after in Fault DB: {df_fau.accident_id.nunique()}\")"
   ]
  },
  {
   "cell_type": "code",
   "execution_count": 4,
   "id": "59a84de4-d8f0-4e83-b494-ea09a4597807",
   "metadata": {},
   "outputs": [],
   "source": [
    "def convert_cols_type(df: pd.DataFrame, features_l: list, type_: str):\n",
    "    for feature in features_l:\n",
    "        df[feature] = df[feature].astype(type_)\n",
    "    return df"
   ]
  },
  {
   "cell_type": "code",
   "execution_count": 5,
   "id": "9a80a474-21fb-4029-a2bf-54ab47aa48f9",
   "metadata": {},
   "outputs": [],
   "source": [
    "cat_features_fil = [\n",
    "    'accident_id', \n",
    "    'vehicle_id', \n",
    "    'circumstances', \n",
    "    'road_signs',\n",
    "    'road_surface', \n",
    "    'visibility', \n",
    "    'road_conditions',\n",
    "    'address_id'\n",
    "    ]\n",
    "\n",
    "df_fil.accident_date = pd.to_datetime(df_fil.accident_date)\n",
    "df_fil = convert_cols_type(\n",
    "    df=df_fil,\n",
    "    features_l=cat_features_fil,\n",
    "    type_='str'\n",
    ")"
   ]
  },
  {
   "cell_type": "code",
   "execution_count": 6,
   "id": "c4be7612-aa3c-4dd4-9cb8-eb0149354a65",
   "metadata": {},
   "outputs": [],
   "source": [
    "cat_features_fau = [\n",
    "    'accident_id', \n",
    "    'accident_vehicle_id', \n",
    "    'circumstances', \n",
    "    'road_signs',\n",
    "    'road_surface', \n",
    "    'visibility', \n",
    "    'road_conditions'\n",
    "    ]\n",
    "\n",
    "df_fau = convert_cols_type(\n",
    "    df=df_fau,\n",
    "    features_l=cat_features_fau,\n",
    "    type_='str'\n",
    ")"
   ]
  },
  {
   "cell_type": "code",
   "execution_count": 17,
   "id": "33e5eb62-5c9a-4707-b237-5dd056db1ef8",
   "metadata": {},
   "outputs": [
    {
     "name": "stdout",
     "output_type": "stream",
     "text": [
      "1173 accidents in Fault DB\n",
      "All accidents from Fault DB are in our filtered data: True\n"
     ]
    }
   ],
   "source": [
    "print(f\"{df_fau.accident_id.nunique()} accidents in Fault DB\")\n",
    "print(f\"All accidents from Fault DB are in our filtered data: {df_fil[df_fil.accident_id.isin(df_fau.accident_id.unique())].accident_id.unique() in df_fau.accident_id.unique()}\")"
   ]
  },
  {
   "cell_type": "code",
   "execution_count": 15,
   "id": "cff1c1a0-7e0b-4729-866a-84e2a1063ad2",
   "metadata": {},
   "outputs": [
    {
     "data": {
      "text/plain": [
       "True"
      ]
     },
     "execution_count": 15,
     "metadata": {},
     "output_type": "execute_result"
    }
   ],
   "source": [
    "df_fil[df_fil.accident_id.isin(df_fau.accident_id.unique())].accident_id.unique() in df_fau.accident_id.unique()"
   ]
  },
  {
   "cell_type": "code",
   "execution_count": 15,
   "id": "c9bf21dd-a087-47d4-9eed-ee22d8f66ce1",
   "metadata": {},
   "outputs": [
    {
     "name": "stdout",
     "output_type": "stream",
     "text": [
      "<class 'pandas.core.frame.DataFrame'>\n",
      "RangeIndex: 6252 entries, 0 to 6251\n",
      "Data columns (total 9 columns):\n",
      " #   Column               Non-Null Count  Dtype \n",
      "---  ------               --------------  ----- \n",
      " 0   accident_vehicle_id  6252 non-null   object\n",
      " 1   accident_id          6252 non-null   object\n",
      " 2   type                 6252 non-null   object\n",
      " 3   case                 6252 non-null   object\n",
      " 4   circumstances        6252 non-null   object\n",
      " 5   road_signs           6252 non-null   object\n",
      " 6   road_surface         6252 non-null   object\n",
      " 7   visibility           6252 non-null   object\n",
      " 8   road_conditions      6252 non-null   object\n",
      "dtypes: object(9)\n",
      "memory usage: 439.7+ KB\n"
     ]
    }
   ],
   "source": [
    "print(f\"{df_fau.accident_id.nunique()} accidents\""
   ]
  },
  {
   "cell_type": "markdown",
   "id": "c951bf58-390a-4f86-92e5-b154313f4854",
   "metadata": {},
   "source": [
    "### Get categories names"
   ]
  },
  {
   "cell_type": "code",
   "execution_count": null,
   "id": "8a28aa54-00ec-48d0-999d-36b148db35cb",
   "metadata": {},
   "outputs": [],
   "source": [
    "sheet_names = [\n",
    "    'circumstances', \n",
    "    'road_signs',\n",
    "    'road_surface', \n",
    "    'visibility',\n",
    "    'road_conditions'\n",
    "]\n",
    "\n",
    "l_category_decoding = []\n",
    "for sheet_name in tqdm(sheet_names):\n",
    "    df_temp = pd.read_excel('../data/raw/data with translations.xlsx', sheet_name=sheet_name)\n",
    "    dict_temp = dict(zip(df_temp.iloc[:, 0], df_temp.iloc[:, 1]))\n",
    "    df_full[f\"{sheet_name}_id\"] = df_full[sheet_name]\n",
    "    df_full[sheet_name] = df_full[f\"{sheet_name}_id\"].map(dict_temp)\n",
    "\n",
    "    l_category_decoding.append({sheet_name: dict_temp})\n",
    "    \n",
    "print(df_full.shape)\n",
    "df_full.head()"
   ]
  },
  {
   "cell_type": "code",
   "execution_count": null,
   "id": "81e0c8b9-2630-481c-873c-0dcbfd2b3ecf",
   "metadata": {},
   "outputs": [],
   "source": [
    "import json\n",
    "with open('../data/processed/feature_decoding.json', 'w') as f:\n",
    "    json.dump(l_category_decoding, f)"
   ]
  }
 ],
 "metadata": {
  "kernelspec": {
   "display_name": "Python 3 (ipykernel)",
   "language": "python",
   "name": "python3"
  },
  "language_info": {
   "codemirror_mode": {
    "name": "ipython",
    "version": 3
   },
   "file_extension": ".py",
   "mimetype": "text/x-python",
   "name": "python",
   "nbconvert_exporter": "python",
   "pygments_lexer": "ipython3",
   "version": "3.10.4"
  }
 },
 "nbformat": 4,
 "nbformat_minor": 5
}
