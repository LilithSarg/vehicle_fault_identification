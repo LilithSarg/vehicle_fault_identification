{
 "cells": [
  {
   "cell_type": "code",
   "execution_count": 2,
   "id": "4a55906a-06ac-4c8e-8a41-ceb9f6773398",
   "metadata": {},
   "outputs": [],
   "source": [
    "import pandas as pd\n",
    "import numpy as np\n",
    "\n",
    "import matplotlib.pyplot as plt\n",
    "plt.rcParams['figure.figsize'] = (30, 10)\n",
    "import seaborn as sns"
   ]
  },
  {
   "cell_type": "code",
   "execution_count": 6,
   "id": "37c5c676-30bf-4227-bf8f-70d859ec70bd",
   "metadata": {},
   "outputs": [
    {
     "name": "stdout",
     "output_type": "stream",
     "text": [
      "(445821, 10)\n"
     ]
    },
    {
     "data": {
      "text/plain": "  compensation_status accident_id vehicle_id fd_decision  circumstances  \\\n0       VALIDATED_EIF         210       14.0          NG            NaN   \n1       VALIDATED_EIF         210       13.0          FG            NaN   \n2       VALIDATED_EIF         216       30.0          NG            NaN   \n3       VALIDATED_EIF         216       29.0          FG            NaN   \n4       VALIDATED_EIF         244       47.0          NG            NaN   \n\n   road_signs  road_surface  visibility  road_conditions address_id  \n0         NaN           NaN         NaN              NaN         60  \n1         NaN           NaN         NaN              NaN         60  \n2         NaN           NaN         NaN              NaN        154  \n3         NaN           NaN         NaN              NaN        154  \n4         NaN           NaN         NaN              NaN        227  ",
      "text/html": "<div>\n<style scoped>\n    .dataframe tbody tr th:only-of-type {\n        vertical-align: middle;\n    }\n\n    .dataframe tbody tr th {\n        vertical-align: top;\n    }\n\n    .dataframe thead th {\n        text-align: right;\n    }\n</style>\n<table border=\"1\" class=\"dataframe\">\n  <thead>\n    <tr style=\"text-align: right;\">\n      <th></th>\n      <th>compensation_status</th>\n      <th>accident_id</th>\n      <th>vehicle_id</th>\n      <th>fd_decision</th>\n      <th>circumstances</th>\n      <th>road_signs</th>\n      <th>road_surface</th>\n      <th>visibility</th>\n      <th>road_conditions</th>\n      <th>address_id</th>\n    </tr>\n  </thead>\n  <tbody>\n    <tr>\n      <th>0</th>\n      <td>VALIDATED_EIF</td>\n      <td>210</td>\n      <td>14.0</td>\n      <td>NG</td>\n      <td>NaN</td>\n      <td>NaN</td>\n      <td>NaN</td>\n      <td>NaN</td>\n      <td>NaN</td>\n      <td>60</td>\n    </tr>\n    <tr>\n      <th>1</th>\n      <td>VALIDATED_EIF</td>\n      <td>210</td>\n      <td>13.0</td>\n      <td>FG</td>\n      <td>NaN</td>\n      <td>NaN</td>\n      <td>NaN</td>\n      <td>NaN</td>\n      <td>NaN</td>\n      <td>60</td>\n    </tr>\n    <tr>\n      <th>2</th>\n      <td>VALIDATED_EIF</td>\n      <td>216</td>\n      <td>30.0</td>\n      <td>NG</td>\n      <td>NaN</td>\n      <td>NaN</td>\n      <td>NaN</td>\n      <td>NaN</td>\n      <td>NaN</td>\n      <td>154</td>\n    </tr>\n    <tr>\n      <th>3</th>\n      <td>VALIDATED_EIF</td>\n      <td>216</td>\n      <td>29.0</td>\n      <td>FG</td>\n      <td>NaN</td>\n      <td>NaN</td>\n      <td>NaN</td>\n      <td>NaN</td>\n      <td>NaN</td>\n      <td>154</td>\n    </tr>\n    <tr>\n      <th>4</th>\n      <td>VALIDATED_EIF</td>\n      <td>244</td>\n      <td>47.0</td>\n      <td>NG</td>\n      <td>NaN</td>\n      <td>NaN</td>\n      <td>NaN</td>\n      <td>NaN</td>\n      <td>NaN</td>\n      <td>227</td>\n    </tr>\n  </tbody>\n</table>\n</div>"
     },
     "execution_count": 6,
     "metadata": {},
     "output_type": "execute_result"
    }
   ],
   "source": [
    "df = pd.read_excel(\"../data/raw/data_OCT20.xlsx\")\n",
    "print(df.shape)\n",
    "\n",
    "# initial data prep\n",
    "int_to_str_cols_l = [\"accident_id\", \"vehicle_id\", \"address_id\"]\n",
    "for col in int_to_str_cols_l:\n",
    "    df[col] = df[col].astype(str)\n",
    "df.head()"
   ]
  },
  {
   "cell_type": "markdown",
   "id": "d5477ec5-6c44-488c-83b8-f99959967cbd",
   "metadata": {},
   "source": [
    "To do\n",
    "\n",
    "1. check N of accidents\n",
    "2. check fd_decision per accident\n",
    "3. chech N road_signs available\n",
    "4. check address_id to be in is_road_sign=True\n",
    "5. statistics N-carsin accident_id\n",
    "6. check categorical data availability in df\n",
    "7. check if vehicle appears in more than one accident"
   ]
  },
  {
   "cell_type": "markdown",
   "id": "3aef50e9-f381-4bd4-939b-78fe4b325706",
   "metadata": {},
   "source": [
    "Comments:\n",
    "\n",
    "\n",
    "    > add dates\n",
    "    > what we do with one vehicle accidents?\n",
    "    > add mapping for circumstances, road_signs, road_surface, visibility, road_conditions\n",
    "    "
   ]
  },
  {
   "cell_type": "code",
   "execution_count": 7,
   "id": "92891092-acc0-4f7e-af7f-19a5caf3ebd6",
   "metadata": {},
   "outputs": [
    {
     "data": {
      "text/plain": "VALIDATED_EIF    445821\nName: compensation_status, dtype: int64"
     },
     "execution_count": 7,
     "metadata": {},
     "output_type": "execute_result"
    }
   ],
   "source": [
    "df.compensation_status.value_counts()"
   ]
  },
  {
   "cell_type": "code",
   "execution_count": 8,
   "id": "dfc858ea-07fa-4cfe-89fa-593f9a913b71",
   "metadata": {},
   "outputs": [
    {
     "data": {
      "text/plain": "count    445821.000000\nmean     159548.027960\nstd      101037.235959\nmin         210.000000\n25%       72196.000000\n50%      146811.000000\n75%      242575.000000\nmax      358814.000000\nName: accident_id, dtype: float64"
     },
     "execution_count": 8,
     "metadata": {},
     "output_type": "execute_result"
    }
   ],
   "source": [
    "df.accident_id.astype(int).describe()"
   ]
  },
  {
   "cell_type": "code",
   "execution_count": 9,
   "id": "61fa5813-6d8c-45a9-88ff-0547523a1cf3",
   "metadata": {},
   "outputs": [
    {
     "name": "stdout",
     "output_type": "stream",
     "text": [
      " available 175691 number of accidents\n"
     ]
    }
   ],
   "source": [
    "print(f\" available {df.accident_id.nunique()} number of accidents\")"
   ]
  },
  {
   "cell_type": "markdown",
   "id": "49a0346e-dfb2-4016-a30a-280cb84dfd41",
   "metadata": {},
   "source": [
    "### Check number of vehicles in an accident statistics"
   ]
  },
  {
   "cell_type": "code",
   "execution_count": 6,
   "id": "0db16190-4a71-4573-baae-ed4a524a21d1",
   "metadata": {},
   "outputs": [
    {
     "data": {
      "image/png": "[encoded data removed]",
      "text/plain": [
       "<Figure size 432x288 with 1 Axes>"
      ]
     },
     "metadata": {
      "needs_background": "light"
     },
     "output_type": "display_data"
    }
   ],
   "source": [
    "df_temp = df[[\"accident_id\", \"vehicle_id\"]].groupby(\"accident_id\").count().reset_index()\n",
    "median_ = int(df_temp.vehicle_id.quantile(0.5))\n",
    "g = sns.boxplot(data=df_temp, x=\"vehicle_id\", color=\"orange\")\n",
    "ymin, ymax = g.get_ylim()\n",
    "g.vlines(x=median_, ymin=ymin, ymax=ymax, color=\"green\")\n",
    "g.text(x=median_, y=ymax-ymax*0.1, s=f\"Meidan={median_}\", color=\"green\")\n",
    "plt.show()"
   ]
  },
  {
   "cell_type": "code",
   "execution_count": 142,
   "id": "5ab71203-80b9-4dd4-8567-c89500107797",
   "metadata": {},
   "outputs": [
    {
     "data": {
      "image/png": "[encoded data removed]",
      "text/plain": [
       "<Figure size 2160x720 with 1 Axes>"
      ]
     },
     "metadata": {
      "needs_background": "light"
     },
     "output_type": "display_data"
    }
   ],
   "source": [
    "sns.histplot(data=df_temp, x=\"vehicle_id\")\n",
    "plt.show()"
   ]
  },
  {
   "cell_type": "code",
   "execution_count": 141,
   "id": "675aba7c-6562-4a6b-a2b6-b477a74255e7",
   "metadata": {},
   "outputs": [
    {
     "data": {
      "text/plain": [
       "2     125870\n",
       "3      23103\n",
       "4      13180\n",
       "5       5191\n",
       "6       3086\n",
       "1       2128\n",
       "7       1579\n",
       "8        805\n",
       "9        337\n",
       "10       209\n",
       "11        70\n",
       "12        41\n",
       "13        26\n",
       "14        15\n",
       "15        12\n",
       "23        11\n",
       "16         7\n",
       "17         3\n",
       "18         3\n",
       "24         3\n",
       "19         2\n",
       "26         2\n",
       "20         2\n",
       "22         2\n",
       "21         1\n",
       "43         1\n",
       "42         1\n",
       "25         1\n",
       "Name: vehicle_id, dtype: int64"
      ]
     },
     "execution_count": 141,
     "metadata": {},
     "output_type": "execute_result"
    }
   ],
   "source": [
    "# what we do with accidents with one vehicle only?\n",
    "df_temp.vehicle_id.value_counts()"
   ]
  },
  {
   "cell_type": "markdown",
   "id": "5d534492-776b-457a-abfe-c60d8153047b",
   "metadata": {},
   "source": [
    "### Check fd_decision statistics "
   ]
  },
  {
   "cell_type": "code",
   "execution_count": 122,
   "id": "b5afa443-8114-4dfd-812e-e767d9afa61d",
   "metadata": {},
   "outputs": [
    {
     "data": {
      "text/html": [
       "<div>\n",
       "<style scoped>\n",
       "    .dataframe tbody tr th:only-of-type {\n",
       "        vertical-align: middle;\n",
       "    }\n",
       "\n",
       "    .dataframe tbody tr th {\n",
       "        vertical-align: top;\n",
       "    }\n",
       "\n",
       "    .dataframe thead th {\n",
       "        text-align: right;\n",
       "    }\n",
       "</style>\n",
       "<table border=\"1\" class=\"dataframe\">\n",
       "  <thead>\n",
       "    <tr style=\"text-align: right;\">\n",
       "      <th></th>\n",
       "      <th>accident_id</th>\n",
       "      <th>vehicle_id</th>\n",
       "      <th>fd_decision</th>\n",
       "    </tr>\n",
       "  </thead>\n",
       "  <tbody>\n",
       "    <tr>\n",
       "      <th>11275</th>\n",
       "      <td>118657</td>\n",
       "      <td>1</td>\n",
       "      <td>1</td>\n",
       "    </tr>\n",
       "    <tr>\n",
       "      <th>13652</th>\n",
       "      <td>123241</td>\n",
       "      <td>1</td>\n",
       "      <td>1</td>\n",
       "    </tr>\n",
       "    <tr>\n",
       "      <th>45966</th>\n",
       "      <td>179855</td>\n",
       "      <td>1</td>\n",
       "      <td>1</td>\n",
       "    </tr>\n",
       "    <tr>\n",
       "      <th>88544</th>\n",
       "      <td>265934</td>\n",
       "      <td>1</td>\n",
       "      <td>1</td>\n",
       "    </tr>\n",
       "    <tr>\n",
       "      <th>10023</th>\n",
       "      <td>116764</td>\n",
       "      <td>1</td>\n",
       "      <td>1</td>\n",
       "    </tr>\n",
       "    <tr>\n",
       "      <th>...</th>\n",
       "      <td>...</td>\n",
       "      <td>...</td>\n",
       "      <td>...</td>\n",
       "    </tr>\n",
       "    <tr>\n",
       "      <th>18093</th>\n",
       "      <td>130436</td>\n",
       "      <td>9</td>\n",
       "      <td>2</td>\n",
       "    </tr>\n",
       "    <tr>\n",
       "      <th>166359</th>\n",
       "      <td>84142</td>\n",
       "      <td>9</td>\n",
       "      <td>2</td>\n",
       "    </tr>\n",
       "    <tr>\n",
       "      <th>128017</th>\n",
       "      <td>338125</td>\n",
       "      <td>10</td>\n",
       "      <td>2</td>\n",
       "    </tr>\n",
       "    <tr>\n",
       "      <th>159772</th>\n",
       "      <td>72694</td>\n",
       "      <td>12</td>\n",
       "      <td>2</td>\n",
       "    </tr>\n",
       "    <tr>\n",
       "      <th>25198</th>\n",
       "      <td>143076</td>\n",
       "      <td>16</td>\n",
       "      <td>2</td>\n",
       "    </tr>\n",
       "  </tbody>\n",
       "</table>\n",
       "<p>175691 rows × 3 columns</p>\n",
       "</div>"
      ],
      "text/plain": [
       "       accident_id  vehicle_id  fd_decision\n",
       "11275       118657           1            1\n",
       "13652       123241           1            1\n",
       "45966       179855           1            1\n",
       "88544       265934           1            1\n",
       "10023       116764           1            1\n",
       "...            ...         ...          ...\n",
       "18093       130436           9            2\n",
       "166359       84142           9            2\n",
       "128017      338125          10            2\n",
       "159772       72694          12            2\n",
       "25198       143076          16            2\n",
       "\n",
       "[175691 rows x 3 columns]"
      ]
     },
     "execution_count": 123,
     "metadata": {},
     "output_type": "execute_result"
    }
   ],
   "source": [
    "del df_temp\n",
    "df_temp = df[[\"accident_id\", \n",
    "              \"vehicle_id\", \n",
    "              \"fd_decision\"]].groupby([\"accident_id\"]).agg({\"vehicle_id\": [\"nunique\"],\n",
    "                                                            \"fd_decision\": [\"nunique\"]}).reset_index().sort_values(by=('vehicle_id', 'nunique'))\n",
    "df_temp.columns = [\"\".join(col).strip().replace(\"nunique\", \"\") for col in df_temp.columns.values]\n",
    "df_temp"
   ]
  },
  {
   "cell_type": "code",
   "execution_count": 124,
   "id": "520e1b7b-ce36-48b3-b594-f9fe5923398d",
   "metadata": {},
   "outputs": [
    {
     "name": "stdout",
     "output_type": "stream",
     "text": [
      "we have 168859/175691 number of valid fd_decision accidents\n"
     ]
    }
   ],
   "source": [
    "valid_acc_id_by_fd = df_temp[df_temp.fd_decision==2].accident_id.unique()\n",
    "print(f\"we have {len(valid_acc_id_by_fd)}/{df.accident_id.nunique()} number of valid fd_decision accidents\")"
   ]
  },
  {
   "cell_type": "code",
   "execution_count": 125,
   "id": "ed7546fe-3fa8-48ca-b8c0-ecdee83ad6f3",
   "metadata": {},
   "outputs": [
    {
     "name": "stdout",
     "output_type": "stream",
     "text": [
      "we have 2595 number of accidents with 1 vehicle and 1 fd_decision\n",
      "we have 0 number of accidents with more than 2 fd_decisions\n"
     ]
    }
   ],
   "source": [
    "print(f\"we have {len(df_temp[(df_temp.vehicle_id==1) & (df_temp.fd_decision==1)])} number of accidents with 1 vehicle and 1 fd_decision\")\n",
    "print(f\"we have {len(df_temp[df_temp.fd_decision>2])} number of accidents with more than 2 fd_decisions\")"
   ]
  },
  {
   "cell_type": "markdown",
   "id": "281ae804-4098-4b48-990b-b257875515d9",
   "metadata": {},
   "source": [
    "#### !Scenario: there are >2 vehicles in an accident, it is acceptable that more than one is faulty?"
   ]
  },
  {
   "cell_type": "markdown",
   "id": "e5b8225e-c000-4f47-bdc9-74880a3c29ae",
   "metadata": {},
   "source": [
    "### Check if we can fill the road signs"
   ]
  },
  {
   "cell_type": "code",
   "execution_count": 134,
   "id": "6cd587bf-d40d-48f8-b1f5-66f77eaf3c97",
   "metadata": {},
   "outputs": [
    {
     "name": "stdout",
     "output_type": "stream",
     "text": [
      "<class 'pandas.core.frame.DataFrame'>\n",
      "RangeIndex: 445821 entries, 0 to 445820\n",
      "Data columns (total 5 columns):\n",
      " #   Column         Non-Null Count   Dtype  \n",
      "---  ------         --------------   -----  \n",
      " 0   accident_id    445821 non-null  object \n",
      " 1   vehicle_id     445821 non-null  object \n",
      " 2   road_signs     747 non-null     float64\n",
      " 3   address_id     445821 non-null  object \n",
      " 4   road_sign_fil  1043 non-null    float64\n",
      "dtypes: float64(2), object(3)\n",
      "memory usage: 17.0+ MB\n"
     ]
    }
   ],
   "source": [
    "# check if we can fill road_signs\n",
    "# del df_temp\n",
    "df_road_sign_address = df[~pd.isna(df.road_signs)][[\"road_signs\", \"address_id\"]]\n",
    "road_sign_address_dict = dict(zip(df_road_sign_address.address_id, df_road_sign_address.road_signs))\n",
    "\n",
    "df_temp = df[[\"accident_id\", \"vehicle_id\", \"road_signs\", \"address_id\"]].copy()\n",
    "df_temp[\"road_sign_fil\"] = df_temp.address_id.map(road_sign_address_dict)\n",
    "\n",
    "df_temp.info()"
   ]
  },
  {
   "cell_type": "markdown",
   "id": "2830d41b-4313-4fdb-a9d9-56dbc2c3c344",
   "metadata": {},
   "source": [
    "### Check circumstances"
   ]
  },
  {
   "cell_type": "code",
   "execution_count": 144,
   "id": "43c1f514-47b1-4ca6-a477-03165cfb410d",
   "metadata": {},
   "outputs": [
    {
     "data": {
      "text/html": [
       "<div>\n",
       "<style scoped>\n",
       "    .dataframe tbody tr th:only-of-type {\n",
       "        vertical-align: middle;\n",
       "    }\n",
       "\n",
       "    .dataframe tbody tr th {\n",
       "        vertical-align: top;\n",
       "    }\n",
       "\n",
       "    .dataframe thead th {\n",
       "        text-align: right;\n",
       "    }\n",
       "</style>\n",
       "<table border=\"1\" class=\"dataframe\">\n",
       "  <thead>\n",
       "    <tr style=\"text-align: right;\">\n",
       "      <th></th>\n",
       "      <th>compensation_status</th>\n",
       "      <th>accident_id</th>\n",
       "      <th>vehicle_id</th>\n",
       "      <th>fd_decision</th>\n",
       "      <th>circumstances</th>\n",
       "      <th>road_signs</th>\n",
       "      <th>road_surface</th>\n",
       "      <th>visibility</th>\n",
       "      <th>road_conditions</th>\n",
       "      <th>address_id</th>\n",
       "    </tr>\n",
       "  </thead>\n",
       "  <tbody>\n",
       "    <tr>\n",
       "      <th>0</th>\n",
       "      <td>VALIDATED_EIF</td>\n",
       "      <td>210</td>\n",
       "      <td>14.0</td>\n",
       "      <td>NG</td>\n",
       "      <td>NaN</td>\n",
       "      <td>NaN</td>\n",
       "      <td>NaN</td>\n",
       "      <td>NaN</td>\n",
       "      <td>NaN</td>\n",
       "      <td>60</td>\n",
       "    </tr>\n",
       "    <tr>\n",
       "      <th>1</th>\n",
       "      <td>VALIDATED_EIF</td>\n",
       "      <td>210</td>\n",
       "      <td>13.0</td>\n",
       "      <td>FG</td>\n",
       "      <td>NaN</td>\n",
       "      <td>NaN</td>\n",
       "      <td>NaN</td>\n",
       "      <td>NaN</td>\n",
       "      <td>NaN</td>\n",
       "      <td>60</td>\n",
       "    </tr>\n",
       "    <tr>\n",
       "      <th>2</th>\n",
       "      <td>VALIDATED_EIF</td>\n",
       "      <td>216</td>\n",
       "      <td>30.0</td>\n",
       "      <td>NG</td>\n",
       "      <td>NaN</td>\n",
       "      <td>NaN</td>\n",
       "      <td>NaN</td>\n",
       "      <td>NaN</td>\n",
       "      <td>NaN</td>\n",
       "      <td>154</td>\n",
       "    </tr>\n",
       "    <tr>\n",
       "      <th>3</th>\n",
       "      <td>VALIDATED_EIF</td>\n",
       "      <td>216</td>\n",
       "      <td>29.0</td>\n",
       "      <td>FG</td>\n",
       "      <td>NaN</td>\n",
       "      <td>NaN</td>\n",
       "      <td>NaN</td>\n",
       "      <td>NaN</td>\n",
       "      <td>NaN</td>\n",
       "      <td>154</td>\n",
       "    </tr>\n",
       "    <tr>\n",
       "      <th>4</th>\n",
       "      <td>VALIDATED_EIF</td>\n",
       "      <td>244</td>\n",
       "      <td>47.0</td>\n",
       "      <td>NG</td>\n",
       "      <td>NaN</td>\n",
       "      <td>NaN</td>\n",
       "      <td>NaN</td>\n",
       "      <td>NaN</td>\n",
       "      <td>NaN</td>\n",
       "      <td>227</td>\n",
       "    </tr>\n",
       "  </tbody>\n",
       "</table>\n",
       "</div>"
      ],
      "text/plain": [
       "  compensation_status accident_id vehicle_id fd_decision  circumstances  \\\n",
       "0       VALIDATED_EIF         210       14.0          NG            NaN   \n",
       "1       VALIDATED_EIF         210       13.0          FG            NaN   \n",
       "2       VALIDATED_EIF         216       30.0          NG            NaN   \n",
       "3       VALIDATED_EIF         216       29.0          FG            NaN   \n",
       "4       VALIDATED_EIF         244       47.0          NG            NaN   \n",
       "\n",
       "   road_signs  road_surface  visibility  road_conditions address_id  \n",
       "0         NaN           NaN         NaN              NaN         60  \n",
       "1         NaN           NaN         NaN              NaN         60  \n",
       "2         NaN           NaN         NaN              NaN        154  \n",
       "3         NaN           NaN         NaN              NaN        154  \n",
       "4         NaN           NaN         NaN              NaN        227  "
      ]
     },
     "execution_count": 144,
     "metadata": {},
     "output_type": "execute_result"
    }
   ],
   "source": [
    "df.head()"
   ]
  },
  {
   "cell_type": "code",
   "execution_count": 145,
   "id": "a623a806-82bd-4ed0-a084-1000abea2a03",
   "metadata": {},
   "outputs": [
    {
     "name": "stdout",
     "output_type": "stream",
     "text": [
      "<class 'pandas.core.frame.DataFrame'>\n",
      "RangeIndex: 445821 entries, 0 to 445820\n",
      "Data columns (total 10 columns):\n",
      " #   Column               Non-Null Count   Dtype  \n",
      "---  ------               --------------   -----  \n",
      " 0   compensation_status  445821 non-null  object \n",
      " 1   accident_id          445821 non-null  object \n",
      " 2   vehicle_id           445821 non-null  object \n",
      " 3   fd_decision          445821 non-null  object \n",
      " 4   circumstances        143718 non-null  float64\n",
      " 5   road_signs           747 non-null     float64\n",
      " 6   road_surface         50301 non-null   float64\n",
      " 7   visibility           50228 non-null   float64\n",
      " 8   road_conditions      49977 non-null   float64\n",
      " 9   address_id           445821 non-null  object \n",
      "dtypes: float64(5), object(5)\n",
      "memory usage: 34.0+ MB\n"
     ]
    }
   ],
   "source": [
    "df.info()"
   ]
  },
  {
   "cell_type": "code",
   "execution_count": 162,
   "id": "1d24b895-3b55-4333-b401-aad53f39b46d",
   "metadata": {},
   "outputs": [
    {
     "name": "stdout",
     "output_type": "stream",
     "text": [
      "Only 23.0% accidents are with known circumstances\n",
      "Only 11.0% accidents are with known road surface\n",
      "Only 11.0% accidents are with known visibility\n",
      "Only 11.0% accidents are with known road conditions\n"
     ]
    }
   ],
   "source": [
    "print(f\"Only {100*np.round(df[~pd.isna(df.circumstances)].accident_id.nunique()/df.accident_id.nunique(), 2)}% accidents are with known circumstances\")\n",
    "print(f\"Only {100*np.round(df[~pd.isna(df.road_surface)].accident_id.nunique()/df.accident_id.nunique(), 2)}% accidents are with known road surface\")\n",
    "print(f\"Only {100*np.round(df[~pd.isna(df.visibility)].accident_id.nunique()/df.accident_id.nunique(), 2)}% accidents are with known visibility\")\n",
    "print(f\"Only {100*np.round(df[~pd.isna(df.road_conditions)].accident_id.nunique()/df.accident_id.nunique(), 2)}% accidents are with known road conditions\")"
   ]
  },
  {
   "cell_type": "code",
   "execution_count": 3,
   "id": "27e04165-be59-48a6-9e06-292fc936b4e2",
   "metadata": {},
   "outputs": [
    {
     "data": {
      "text/plain": [
       "2.4002367793455557"
      ]
     },
     "execution_count": 3,
     "metadata": {},
     "output_type": "execute_result"
    }
   ],
   "source": [
    "100*(4217/175691)"
   ]
  },
  {
   "cell_type": "code",
   "execution_count": 164,
   "id": "d7249fbf-3df0-4e45-b443-e70f748950dc",
   "metadata": {},
   "outputs": [
    {
     "name": "stdout",
     "output_type": "stream",
     "text": [
      "We have 4217 number of accidents with known circumstances, road_surface, visiblity and road_conditions\n"
     ]
    }
   ],
   "source": [
    "list_available_data = [\n",
    "    df[~pd.isna(df.circumstances)].accident_id.unique(), \n",
    "    df[~pd.isna(df.road_conditions)].accident_id.unique(),\n",
    "    df[~pd.isna(df.visibility)].accident_id.unique(),\n",
    "    df[~pd.isna(df.road_surface)].accident_id.unique()\n",
    "]\n",
    "valid_data_accidents = set.intersection(*map(set,list_available_data))\n",
    "print(f\"We have {len(valid_data_accidents)} number of accidents with known circumstances, road_surface, visiblity and road_conditions\")"
   ]
  },
  {
   "cell_type": "code",
   "execution_count": 166,
   "id": "9caf7837-84bf-4e5e-9ffe-2d2a40af4680",
   "metadata": {},
   "outputs": [
    {
     "data": {
      "text/html": [
       "<div>\n",
       "<style scoped>\n",
       "    .dataframe tbody tr th:only-of-type {\n",
       "        vertical-align: middle;\n",
       "    }\n",
       "\n",
       "    .dataframe tbody tr th {\n",
       "        vertical-align: top;\n",
       "    }\n",
       "\n",
       "    .dataframe thead th {\n",
       "        text-align: right;\n",
       "    }\n",
       "</style>\n",
       "<table border=\"1\" class=\"dataframe\">\n",
       "  <thead>\n",
       "    <tr style=\"text-align: right;\">\n",
       "      <th></th>\n",
       "      <th>compensation_status</th>\n",
       "      <th>accident_id</th>\n",
       "      <th>vehicle_id</th>\n",
       "      <th>fd_decision</th>\n",
       "      <th>circumstances</th>\n",
       "      <th>road_signs</th>\n",
       "      <th>road_surface</th>\n",
       "      <th>visibility</th>\n",
       "      <th>road_conditions</th>\n",
       "      <th>address_id</th>\n",
       "    </tr>\n",
       "  </thead>\n",
       "  <tbody>\n",
       "    <tr>\n",
       "      <th>19709</th>\n",
       "      <td>VALIDATED_EIF</td>\n",
       "      <td>16141</td>\n",
       "      <td>26245.0</td>\n",
       "      <td>NG</td>\n",
       "      <td>NaN</td>\n",
       "      <td>NaN</td>\n",
       "      <td>1.0</td>\n",
       "      <td>2.0</td>\n",
       "      <td>1.0</td>\n",
       "      <td>141147</td>\n",
       "    </tr>\n",
       "    <tr>\n",
       "      <th>19710</th>\n",
       "      <td>VALIDATED_EIF</td>\n",
       "      <td>16141</td>\n",
       "      <td>26244.0</td>\n",
       "      <td>FG</td>\n",
       "      <td>2.0</td>\n",
       "      <td>NaN</td>\n",
       "      <td>1.0</td>\n",
       "      <td>2.0</td>\n",
       "      <td>1.0</td>\n",
       "      <td>141147</td>\n",
       "    </tr>\n",
       "    <tr>\n",
       "      <th>19711</th>\n",
       "      <td>VALIDATED_EIF</td>\n",
       "      <td>16141</td>\n",
       "      <td>26244.0</td>\n",
       "      <td>FG</td>\n",
       "      <td>12.0</td>\n",
       "      <td>NaN</td>\n",
       "      <td>1.0</td>\n",
       "      <td>2.0</td>\n",
       "      <td>1.0</td>\n",
       "      <td>141147</td>\n",
       "    </tr>\n",
       "    <tr>\n",
       "      <th>19712</th>\n",
       "      <td>VALIDATED_EIF</td>\n",
       "      <td>16141</td>\n",
       "      <td>26244.0</td>\n",
       "      <td>FG</td>\n",
       "      <td>35.0</td>\n",
       "      <td>NaN</td>\n",
       "      <td>1.0</td>\n",
       "      <td>2.0</td>\n",
       "      <td>1.0</td>\n",
       "      <td>141147</td>\n",
       "    </tr>\n",
       "    <tr>\n",
       "      <th>19779</th>\n",
       "      <td>VALIDATED_EIF</td>\n",
       "      <td>16169</td>\n",
       "      <td>26324.0</td>\n",
       "      <td>NG</td>\n",
       "      <td>2.0</td>\n",
       "      <td>NaN</td>\n",
       "      <td>1.0</td>\n",
       "      <td>1.0</td>\n",
       "      <td>2.0</td>\n",
       "      <td>141548</td>\n",
       "    </tr>\n",
       "    <tr>\n",
       "      <th>...</th>\n",
       "      <td>...</td>\n",
       "      <td>...</td>\n",
       "      <td>...</td>\n",
       "      <td>...</td>\n",
       "      <td>...</td>\n",
       "      <td>...</td>\n",
       "      <td>...</td>\n",
       "      <td>...</td>\n",
       "      <td>...</td>\n",
       "      <td>...</td>\n",
       "    </tr>\n",
       "    <tr>\n",
       "      <th>284471</th>\n",
       "      <td>VALIDATED_EIF</td>\n",
       "      <td>188892</td>\n",
       "      <td>566531.0</td>\n",
       "      <td>NG</td>\n",
       "      <td>NaN</td>\n",
       "      <td>NaN</td>\n",
       "      <td>1.0</td>\n",
       "      <td>1.0</td>\n",
       "      <td>1.0</td>\n",
       "      <td>1968163</td>\n",
       "    </tr>\n",
       "    <tr>\n",
       "      <th>284472</th>\n",
       "      <td>VALIDATED_EIF</td>\n",
       "      <td>188892</td>\n",
       "      <td>566529.0</td>\n",
       "      <td>FG</td>\n",
       "      <td>9.0</td>\n",
       "      <td>NaN</td>\n",
       "      <td>1.0</td>\n",
       "      <td>1.0</td>\n",
       "      <td>1.0</td>\n",
       "      <td>1968163</td>\n",
       "    </tr>\n",
       "    <tr>\n",
       "      <th>284473</th>\n",
       "      <td>VALIDATED_EIF</td>\n",
       "      <td>188892</td>\n",
       "      <td>566529.0</td>\n",
       "      <td>FG</td>\n",
       "      <td>11.0</td>\n",
       "      <td>NaN</td>\n",
       "      <td>1.0</td>\n",
       "      <td>1.0</td>\n",
       "      <td>1.0</td>\n",
       "      <td>1968163</td>\n",
       "    </tr>\n",
       "    <tr>\n",
       "      <th>284474</th>\n",
       "      <td>VALIDATED_EIF</td>\n",
       "      <td>188892</td>\n",
       "      <td>566529.0</td>\n",
       "      <td>FG</td>\n",
       "      <td>17.0</td>\n",
       "      <td>NaN</td>\n",
       "      <td>1.0</td>\n",
       "      <td>1.0</td>\n",
       "      <td>1.0</td>\n",
       "      <td>1968163</td>\n",
       "    </tr>\n",
       "    <tr>\n",
       "      <th>284475</th>\n",
       "      <td>VALIDATED_EIF</td>\n",
       "      <td>188892</td>\n",
       "      <td>566529.0</td>\n",
       "      <td>FG</td>\n",
       "      <td>30.0</td>\n",
       "      <td>NaN</td>\n",
       "      <td>1.0</td>\n",
       "      <td>1.0</td>\n",
       "      <td>1.0</td>\n",
       "      <td>1968163</td>\n",
       "    </tr>\n",
       "  </tbody>\n",
       "</table>\n",
       "<p>18444 rows × 10 columns</p>\n",
       "</div>"
      ],
      "text/plain": [
       "       compensation_status accident_id vehicle_id fd_decision  circumstances  \\\n",
       "19709        VALIDATED_EIF       16141    26245.0          NG            NaN   \n",
       "19710        VALIDATED_EIF       16141    26244.0          FG            2.0   \n",
       "19711        VALIDATED_EIF       16141    26244.0          FG           12.0   \n",
       "19712        VALIDATED_EIF       16141    26244.0          FG           35.0   \n",
       "19779        VALIDATED_EIF       16169    26324.0          NG            2.0   \n",
       "...                    ...         ...        ...         ...            ...   \n",
       "284471       VALIDATED_EIF      188892   566531.0          NG            NaN   \n",
       "284472       VALIDATED_EIF      188892   566529.0          FG            9.0   \n",
       "284473       VALIDATED_EIF      188892   566529.0          FG           11.0   \n",
       "284474       VALIDATED_EIF      188892   566529.0          FG           17.0   \n",
       "284475       VALIDATED_EIF      188892   566529.0          FG           30.0   \n",
       "\n",
       "        road_signs  road_surface  visibility  road_conditions address_id  \n",
       "19709          NaN           1.0         2.0              1.0     141147  \n",
       "19710          NaN           1.0         2.0              1.0     141147  \n",
       "19711          NaN           1.0         2.0              1.0     141147  \n",
       "19712          NaN           1.0         2.0              1.0     141147  \n",
       "19779          NaN           1.0         1.0              2.0     141548  \n",
       "...            ...           ...         ...              ...        ...  \n",
       "284471         NaN           1.0         1.0              1.0    1968163  \n",
       "284472         NaN           1.0         1.0              1.0    1968163  \n",
       "284473         NaN           1.0         1.0              1.0    1968163  \n",
       "284474         NaN           1.0         1.0              1.0    1968163  \n",
       "284475         NaN           1.0         1.0              1.0    1968163  \n",
       "\n",
       "[18444 rows x 10 columns]"
      ]
     },
     "execution_count": 166,
     "metadata": {},
     "output_type": "execute_result"
    }
   ],
   "source": [
    "df_full = df[df.accident_id.isin(valid_data_accidents)]\n",
    "df_full"
   ]
  },
  {
   "cell_type": "code",
   "execution_count": 167,
   "id": "91697d9e-39f0-4df5-8ab2-270e2391c1f7",
   "metadata": {},
   "outputs": [],
   "source": [
    "# Note: Check if these accidents are the most recent ones"
   ]
  },
  {
   "cell_type": "code",
   "execution_count": 168,
   "id": "9f9e5829-be50-46d3-9409-187ecb53c8ac",
   "metadata": {},
   "outputs": [
    {
     "data": {
      "text/plain": [
       "2.0     4073\n",
       "12.0    3977\n",
       "3.0     1482\n",
       "11.0     698\n",
       "15.0     650\n",
       "19.0     608\n",
       "30.0     585\n",
       "25.0     389\n",
       "4.0      388\n",
       "20.0     353\n",
       "31.0     298\n",
       "23.0     235\n",
       "16.0     234\n",
       "35.0     226\n",
       "21.0     218\n",
       "29.0     201\n",
       "13.0     182\n",
       "14.0     133\n",
       "17.0     131\n",
       "8.0      123\n",
       "33.0      97\n",
       "5.0       77\n",
       "9.0       61\n",
       "18.0      52\n",
       "38.0      49\n",
       "26.0      38\n",
       "36.0      24\n",
       "7.0       23\n",
       "27.0      15\n",
       "22.0      12\n",
       "28.0      11\n",
       "6.0       10\n",
       "37.0       4\n",
       "Name: circumstances, dtype: int64"
      ]
     },
     "execution_count": 168,
     "metadata": {},
     "output_type": "execute_result"
    }
   ],
   "source": [
    "df_full.circumstances.value_counts()"
   ]
  },
  {
   "cell_type": "code",
   "execution_count": 169,
   "id": "16192145-2f3a-4a44-a7f3-11c0ce0d9849",
   "metadata": {},
   "outputs": [
    {
     "data": {
      "text/plain": [
       "1.0    17888\n",
       "5.0      275\n",
       "4.0      164\n",
       "2.0       87\n",
       "3.0       30\n",
       "Name: road_surface, dtype: int64"
      ]
     },
     "execution_count": 169,
     "metadata": {},
     "output_type": "execute_result"
    }
   ],
   "source": [
    "df_full.road_surface.value_counts()"
   ]
  },
  {
   "cell_type": "code",
   "execution_count": 170,
   "id": "de14428c-0e1d-4f92-974e-7c6ba477b900",
   "metadata": {},
   "outputs": [
    {
     "data": {
      "text/plain": [
       "1.0    15643\n",
       "2.0     1890\n",
       "3.0      370\n",
       "4.0      303\n",
       "6.0      215\n",
       "5.0       23\n",
       "Name: road_conditions, dtype: int64"
      ]
     },
     "execution_count": 170,
     "metadata": {},
     "output_type": "execute_result"
    }
   ],
   "source": [
    "df_full.road_conditions.value_counts()"
   ]
  },
  {
   "cell_type": "markdown",
   "id": "09b0e8e6-a8ba-48ae-9527-aaab7b924f46",
   "metadata": {},
   "source": [
    "### Check if vehicle appears in more than one accidents"
   ]
  },
  {
   "cell_type": "code",
   "execution_count": 178,
   "id": "5d1b6ea4-9bc1-4df5-9dec-fa37bf5ccaad",
   "metadata": {},
   "outputs": [
    {
     "data": {
      "text/html": [
       "<div>\n",
       "<style scoped>\n",
       "    .dataframe tbody tr th:only-of-type {\n",
       "        vertical-align: middle;\n",
       "    }\n",
       "\n",
       "    .dataframe tbody tr th {\n",
       "        vertical-align: top;\n",
       "    }\n",
       "\n",
       "    .dataframe thead th {\n",
       "        text-align: right;\n",
       "    }\n",
       "</style>\n",
       "<table border=\"1\" class=\"dataframe\">\n",
       "  <thead>\n",
       "    <tr style=\"text-align: right;\">\n",
       "      <th></th>\n",
       "      <th>vehicle_id</th>\n",
       "      <th>accident_id</th>\n",
       "    </tr>\n",
       "  </thead>\n",
       "  <tbody>\n",
       "    <tr>\n",
       "      <th>0</th>\n",
       "      <td>10.0</td>\n",
       "      <td>1</td>\n",
       "    </tr>\n",
       "    <tr>\n",
       "      <th>240153</th>\n",
       "      <td>630146.0</td>\n",
       "      <td>1</td>\n",
       "    </tr>\n",
       "    <tr>\n",
       "      <th>240152</th>\n",
       "      <td>630145.0</td>\n",
       "      <td>1</td>\n",
       "    </tr>\n",
       "    <tr>\n",
       "      <th>240151</th>\n",
       "      <td>630144.0</td>\n",
       "      <td>1</td>\n",
       "    </tr>\n",
       "    <tr>\n",
       "      <th>240150</th>\n",
       "      <td>630143.0</td>\n",
       "      <td>1</td>\n",
       "    </tr>\n",
       "    <tr>\n",
       "      <th>...</th>\n",
       "      <td>...</td>\n",
       "      <td>...</td>\n",
       "    </tr>\n",
       "    <tr>\n",
       "      <th>120071</th>\n",
       "      <td>191170.0</td>\n",
       "      <td>1</td>\n",
       "    </tr>\n",
       "    <tr>\n",
       "      <th>120070</th>\n",
       "      <td>19117.0</td>\n",
       "      <td>1</td>\n",
       "    </tr>\n",
       "    <tr>\n",
       "      <th>120069</th>\n",
       "      <td>191169.0</td>\n",
       "      <td>1</td>\n",
       "    </tr>\n",
       "    <tr>\n",
       "      <th>120077</th>\n",
       "      <td>191178.0</td>\n",
       "      <td>1</td>\n",
       "    </tr>\n",
       "    <tr>\n",
       "      <th>360224</th>\n",
       "      <td>nan</td>\n",
       "      <td>13</td>\n",
       "    </tr>\n",
       "  </tbody>\n",
       "</table>\n",
       "<p>360225 rows × 2 columns</p>\n",
       "</div>"
      ],
      "text/plain": [
       "       vehicle_id  accident_id\n",
       "0            10.0            1\n",
       "240153   630146.0            1\n",
       "240152   630145.0            1\n",
       "240151   630144.0            1\n",
       "240150   630143.0            1\n",
       "...           ...          ...\n",
       "120071   191170.0            1\n",
       "120070    19117.0            1\n",
       "120069   191169.0            1\n",
       "120077   191178.0            1\n",
       "360224        nan           13\n",
       "\n",
       "[360225 rows x 2 columns]"
      ]
     },
     "execution_count": 178,
     "metadata": {},
     "output_type": "execute_result"
    }
   ],
   "source": [
    "# del df_temp\n",
    "df_temp = df[[\"accident_id\", \"vehicle_id\"]].groupby([\"vehicle_id\"]).agg({\"accident_id\": [\"nunique\"]}).reset_index()\n",
    "df_temp.columns = [\"\".join(col).strip().replace(\"nunique\", \"\") for col in df_temp.columns.values]\n",
    "df_temp.sort_values(by=\"accident_id\")"
   ]
  },
  {
   "cell_type": "code",
   "execution_count": null,
   "id": "4e8c49cc-67c1-4fcc-8998-6e5751f7eb47",
   "metadata": {},
   "outputs": [
    {
     "data": {
      "text/html": [
       "<div>\n",
       "<style scoped>\n",
       "    .dataframe tbody tr th:only-of-type {\n",
       "        vertical-align: middle;\n",
       "    }\n",
       "\n",
       "    .dataframe tbody tr th {\n",
       "        vertical-align: top;\n",
       "    }\n",
       "\n",
       "    .dataframe thead th {\n",
       "        text-align: right;\n",
       "    }\n",
       "</style>\n",
       "<table border=\"1\" class=\"dataframe\">\n",
       "  <thead>\n",
       "    <tr style=\"text-align: right;\">\n",
       "      <th></th>\n",
       "      <th>compensation_status</th>\n",
       "      <th>accident_id</th>\n",
       "      <th>vehicle_id</th>\n",
       "      <th>fd_decision</th>\n",
       "      <th>circumstances</th>\n",
       "      <th>road_signs</th>\n",
       "      <th>road_surface</th>\n",
       "      <th>visibility</th>\n",
       "      <th>road_conditions</th>\n",
       "      <th>address_id</th>\n",
       "    </tr>\n",
       "  </thead>\n",
       "  <tbody>\n",
       "  </tbody>\n",
       "</table>\n",
       "</div>"
      ],
      "text/plain": [
       "Empty DataFrame\n",
       "Columns: [compensation_status, accident_id, vehicle_id, fd_decision, circumstances, road_signs, road_surface, visibility, road_conditions, address_id]\n",
       "Index: []"
      ]
     },
     "execution_count": 179,
     "metadata": {},
     "output_type": "execute_result"
    }
   ],
   "source": [
    "df[pd.isna(df.vehicle_id)]"
   ]
  },
  {
   "cell_type": "code",
   "execution_count": 186,
   "id": "f283c4bc-f81e-40ea-915b-e1cc5badf845",
   "metadata": {},
   "outputs": [],
   "source": [
    "# I find it impossible to have new cars in each accident, that one car never ever appeared in two accidents"
   ]
  },
  {
   "cell_type": "code",
   "execution_count": null,
   "id": "ad1b35cd-6629-4922-8f93-75fc88634dc6",
   "metadata": {},
   "outputs": [],
   "source": []
  }
 ],
 "metadata": {
  "kernelspec": {
   "display_name": "Python 3 (ipykernel)",
   "language": "python",
   "name": "python3"
  },
  "language_info": {
   "codemirror_mode": {
    "name": "ipython",
    "version": 3
   },
   "file_extension": ".py",
   "mimetype": "text/x-python",
   "name": "python",
   "nbconvert_exporter": "python",
   "pygments_lexer": "ipython3",
   "version": "3.10.4"
  }
 },
 "nbformat": 4,
 "nbformat_minor": 5
}
