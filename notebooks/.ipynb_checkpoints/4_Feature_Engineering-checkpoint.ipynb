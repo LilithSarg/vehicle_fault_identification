{
 "cells": [
  {
   "cell_type": "code",
   "execution_count": 1,
   "metadata": {
    "collapsed": true
   },
   "outputs": [],
   "source": [
    "import pandas as pd\n",
    "import numpy as np\n",
    "from sklearn.preprocessing import OneHotEncoder"
   ]
  },
  {
   "cell_type": "code",
   "execution_count": 2,
   "outputs": [
    {
     "data": {
      "text/plain": "[{'circumstances': {'1': 'Traffic line during the accident',\n   '2': 'First',\n   '3': 'Second',\n   '4': 'Third',\n   '5': 'Fourth',\n   '6': 'Fifth',\n   '7': 'Sixth',\n   '8': 'Oncoming traffic',\n   '9': 'Roadside',\n   '10': 'Action during the accident',\n   '11': 'Beginning of traffic',\n   '12': 'Direct traffic',\n   '13': 'Rearrangement to right',\n   '14': 'Rearrangement to left',\n   '15': 'Steady condition',\n   '16': 'Turn to right',\n   '17': 'Backward motion',\n   '18': 'Overtaking',\n   '19': 'Breaking',\n   '20': 'Turn to left',\n   '21': 'Reverse',\n   '22': 'Detour',\n   '23': 'Parking',\n   '24': 'Light signals during the accident',\n   '25': 'Marker lights',\n   '26': 'Alarm signal',\n   '27': 'Fog lights',\n   '28': 'Long',\n   '29': 'Right blinker',\n   '30': 'Short',\n   '31': 'Left blinker',\n   '32': 'Traffic light during the accident (used in traffic accidents at regulated crossroads)',\n   '33': 'Red',\n   '34': 'Red and yellow',\n   '35': 'Green',\n   '36': 'Yellow',\n   '37': 'Not working',\n   '38': 'Parked'}},\n {'road_signs': {'2': '1.2 Երկաթուղային գծանց` առանց ուղեփակոցի',\n   '3': '1.3.2 Բազմագիծ երկաթուղի',\n   '5': '1.4.2 Մոտեցում երկաթուղային գծանցին',\n   '6': '1.4.3 Մոտեցում երկաթուղային գծանցին',\n   '7': '1.4.4 Մոտեցում երկաթուղային գծանցին',\n   '8': '1.4.5 Մոտեցում երկաթուղային գծանցին',\n   '9': '1.4.6 Մոտեցում երկաթուղային գծանցին',\n   '10': '1.5 Հատում տրամվայի գծի հետ',\n   '11': '1.6 Հավասարազոր ճանապարհների հատում',\n   '12': '1.7 Հատում շրջանաձև երթևեկության հետ',\n   '13': '1.8 Լուսացուցային կարգավորում',\n   '14': '1.9 Բացվող կամուրջ',\n   '15': '1.10 Ելք դեպի առափ',\n   '16': '1.11.1 Վտանգավոր շրջադարձ',\n   '17': '1.11.2 Վտանգավոր շրջադարձ',\n   '18': '1.12.1 Վտանգավոր շրջադարձեր',\n   '19': '1.12.2 Վտանգավոր շրջադարձեր',\n   '20': '1.13 Կտրուկ վայրէջք',\n   '21': '1.14 Կտրուկ վերելք',\n   '22': '1.15 Սայթաքուն ճանապարհ',\n   '23': '1.16 Անհարթ ճանապարհ',\n   '24': '1.17 Արհեստական անհարթություն',\n   '25': '1.18 Խճի արտանետում',\n   '26': '1.19 Վտանգավոր կողնակ',\n   '27': '1.20.1 Ճանապարհի նեղացում',\n   '28': '1.20.2 Ճանապարհի նեղացում',\n   '29': '1.20.3 Ճանապարհի նեղացում',\n   '30': '1.21 Երկկողմ երթևեկություն',\n   '31': '1.22 Հետիոտնային անցում',\n   '32': '1.23 Երեխաներ',\n   '33': '1.24 Հատում հեծանվային արահետի հետ',\n   '34': '1.25 Ճանապարհային աշխատանքներ',\n   '35': '1.26 Անասունների քշում',\n   '36': '1.27 Վայրի կենդանիներ',\n   '37': '1.28 Քարերի անկում',\n   '38': '1.29 Կողային քամի',\n   '39': '1.30 Ցածրաթռիչք ինքնաթիռներ',\n   '41': '1.31 Թունել',\n   '42': '1.32 Խցանում',\n   '43': '1.33 Այլ վտանգներ',\n   '44': '1.34.1 Շրջադարձի ուղղություն',\n   '45': '1.34.2 Շրջադարձի ուղղություն',\n   '46': '1.34.3 Շրջադարձի ուղղություն',\n   '47': '1.35 Հատում ձյունագնացների համար ճանապարհի հետ',\n   '48': '2.1 Գլխավոր ճանապարհ',\n   '49': '2.2 Գլխավոր ճանապարհի վերջ',\n   '50': '2.3.1 Հատում երկրորդական ճանապարհի հետ',\n   '57': '2.4 Զիջեք ճանապարհը',\n   '58': '2.5 Երթևեկությունն առանց կանգառի արգելվում է',\n   '59': '2.6 Հանդիպակաց երթևեկության առավելություն',\n   '60': '2.7 Առավելություն հանդիպակաց երթևեկության նկատմամբ',\n   '61': '3.1 Մուտքն արգելվում է',\n   '62': '3.2 Երթևեկությունն արգելվում է',\n   '63': '3.3 Մեխանիկական տրանսպորտային միջոցների երթևեկությունն արգելվում է',\n   '64': '3.4 Բեռնատար ավտոմոբիլների երթևեկությունն արգելվում է',\n   '65': '3.5 Մոտոցիկլների երթևեկությունն արգելվում է',\n   '66': '3.6 Տրակտորների երթևեկությունն արգելվում է',\n   '67': '3.7 Կցորդով երթևեկությունն արգելվում է',\n   '68': '3.8 Լծասայլերի երթևեկությունն արգելվում է',\n   '69': '3.9 Հեծանիվներով երթևեկությունն արգելվում է',\n   '70': '3.10 Հետիոտների երթևեկությունն արգելվում է',\n   '71': '3.11 Զանգվածի սահմանափակում',\n   '72': '3.12 Սռնու վրա բեռնվածության սահմանափակում',\n   '73': '3.13 Բարձրության սահմանափակում',\n   '74': '3.14 Լայնության սահմանափակում',\n   '75': '3.15 Երկարության սահմանափակում',\n   '76': '3.16 Նվազագույն միջտարածության սահմանափակում',\n   '77': '3.17.1 Մաքսային կետ',\n   '78': '3.17.2 Վտանգ',\n   '79': '3.17.3 Հսկիչ կետ',\n   '80': '3.18.1 Աջ շրջադարձն արգելվում է',\n   '81': '3.18.2 Ձախ շրջադարձն արգելվում է',\n   '82': '3.19 Հետադարձն արգելվում է',\n   '83': '3.20 Վազանցն արգելվում է',\n   '84': '3.21 Վազանցի արգելման գոտու վերջ',\n   '40': '1.3.1 Միագիծ երկաթուղի',\n   '1': '1.1 Երկաթուղային գծանց` ուղեփակոցով',\n   '4': '1.4.1 Մոտեցում երկաթուղային գծանցին',\n   '85': '3.22 Բեռնատար ավտոմոբիլներով վազանցն արգելվում է',\n   '86': '3.23 Բեռնատար ավտոմոբիլներով վազանցի արգելման գոտու վերջ',\n   '87': '3.24 Առավելագույն արագության սահմանափակում',\n   '88': '3.25 Առավելագույն արագության սահմանափակման գոտու վերջ',\n   '89': '3.26 Ձայնային ազդանշան տալն արգելվում է',\n   '90': '3.27 Կանգառն արգելվում է',\n   '91': '3.28 Կայանելն արգելվում է',\n   '92': '3.29 Կայանելն արգելվում է ամսվա կենտ օրերին',\n   '93': '3.30 Կայանելն արգելվում է ամսվա զույգ օրերին',\n   '94': '3.31 Բոլոր սահմանափակումների գոտու վերջ',\n   '95': '3.32 Վտանգավոր բեռներով տրանսպորտային միջոցների երթևեկությունն արգելվում է',\n   '96': '3.33 Պայթուցիկ և դյուրավառ բեռներով տրանսպորտային միջոցների երթևեկությունն արգելվում է',\n   '97': '4.1.1 Երթևեկությունն ուղիղ',\n   '98': '4.1.2 Երթևեկությունը դեպի աջ',\n   '99': '4.1.3 Երթևեկությունը դեպի ձախ',\n   '100': '4.1.4 Երթևեկությունն ուղիղ կամ դեպի աջ ',\n   '101': '4.1.5 Երթևեկությունն ուղիղ կամ դեպի ձախ ',\n   '102': '4.1.6 Երթևեկությունը դեպի աջ կամ դեպի ձախ',\n   '103': '4.2.1 Արգելքի շրջանցումն աջից',\n   '104': '4.2.2 Արգելքի շրջանցումը ձախից',\n   '105': '4.2.3 Արգելքի շրջանցումն աջից կամ ձախից',\n   '106': '4.3 Շրջանաձև երթևեկություն',\n   '107': '4.4 Հեծանվային արահետ',\n   '108': '4.5 Հետիոտնային արահետ',\n   '109': '4.6 Նվազագույն արագության սահմանափակում',\n   '110': '4.7 Նվազագույն արագության սահմանափակման գոտու վերջ',\n   '111': '4.8.1 Վտանգավոր բեռներով տրանսպորտային միջոցների երթևեկության ուղղություն',\n   '112': '4.8.2 Վտանգավոր բեռներով տրանսպորտային միջոցների երթևեկության ուղղություն',\n   '113': '4.8.3 Վտանգավոր բեռներով տրանսպորտային միջոցների երթևեկության ուղղություն',\n   '115': '5.1 Ավտոմայրուղի',\n   '116': '5.2 Ավտոմայրուղու վերջ',\n   '117': '5.3 Ճանապարհ ավտոմոբիլների համար',\n   '118': '5.4 Ավտոմոբիլների համար ճանապարհի վերջ',\n   '119': '5.5 Միակողմ երթևեկությամբ ճանապարհ',\n   '120': '5.6 Միակողմ երթևեկությամբ ճանապարհի վերջ\\t',\n   '121': '5.7.1 Ելք դեպի միակողմ երթևեկությամբ ճանապարհ',\n   '122': '5.7.2 Ելք դեպի միակողմ երթևեկությամբ ճանապարհ',\n   '123': '5.8 Դարձափոխային երթևեկություն',\n   '124': '5.9 Դարձափոխային երթևեկության վերջ',\n   '125': '5.10 Ելք դեպի դարձափոխային երթևեկությամբ ճանապարհ',\n   '126': '5.11 Ընդհանուր օգտագործման տրանսպորտային միջոցների համար գոտիով ճանապարհ',\n   '127': '5.12 Ընդհանուր օգտագործման տրանսպորտային միջոցների համար գոտիով ճանապարհի վերջ',\n   '128': '5.13.1 Ելք դեպի ընդհանուր օգտագործման տրանսպորտային միջոցների համար գոտիով ճանապարհ',\n   '129': '5.13.2 Ելք դեպի ընդհանուր օգտագործման տրանսպորտային միջոցների համար գոտիով ճանապարհ',\n   '130': '5.14 Ընդհանուր օգտագործման տրանսպորտային միջոցների համար գոտի',\n   '131': '5.15.1 Երթևեկության ուղղությունները գոտիներով',\n   '132': '5.15.2 Երթևեկության ուղղությունները գոտիով',\n   '133': '5.15.3 Գոտու սկիզբ',\n   '134': '5.15.4 Գոտու սկիզբ',\n   '135': '5.15.5 Գոտու վերջ',\n   '136': '5.15.6 Գոտու վերջ',\n   '137': '5.15.7 Երթևեկության ուղղությունը գոտիներով',\n   '138': '5.15.8 Գոտիների քանակը',\n   '139': '5.16 Ավտոբուսի և (կամ) տրոլեյբուսի կանգառի տեղ',\n   '140': '5.17 Տրամվայի կանգառի տեղ',\n   '141': '5.18 Թեթև մարդատար տաքսիների կայանման տեղ',\n   '142': '5.19.1 Հետիոտնային անցում',\n   '143': '5.19.2 Հետիոտնային անցում',\n   '144': '5.20 Արհեստական անհարթություն',\n   '145': '5.21 Բնակելի գոտի',\n   '146': '5.22 Բնակելի գոտու վերջ',\n   '147': '5.23.1 Բնակավայրի սկիզբ',\n   '148': '5.23.2 Բնակավայրի սկիզբ',\n   '149': '5.24.1 Բնակավայրի վերջ',\n   '150': '5.24.2 Բնակավայրի վերջ',\n   '151': '5.25 Բնակավայրի սկիզբ',\n   '152': '5.26 Բնակավայրի վերջ',\n   '153': '5.27 Կայանման սահմանափակումով գոտի',\n   '154': '5.28 Կայանման սահմանափակումով գոտու վերջ',\n   '155': '5.29 Կարգավորվող կայանման գոտի',\n   '156': '5.30 Կարգավորվող կայանման գոտու վերջ',\n   '157': '5.31 Առավելագույն արագության սահմանափակումով գոտի',\n   '158': '5.32 Առավելագույն արագության սահմանափակումով գոտու վերջ',\n   '159': '5.33 Հետիոտնային գոտի',\n   '160': '5.34 Հետիոտնային գոտու վերջ',\n   '161': '6.1 Առավելագույն արագության ընդհանուր սահմանափակում',\n   '162': '6.2 Առաջարկվող արագություն',\n   '163': '6.3.1 Հետադարձի տեղ',\n   '164': '6.3.2 Հետադարձի գոտի',\n   '165': '6.4 Կայանման տեղ',\n   '166': '6.5 Վթարային կանգառի գոտի',\n   '167': '6.6 Ստորգետնյա հետիոտնային անցում',\n   '168': '6.7 Վերգետնյա հետիոտնային անցում',\n   '169': '6.8.1 Փակուղի',\n   '170': '6.8.2 Փակուղի',\n   '171': '6.8.3 Փակուղի',\n   '172': '6.9.1 Ուղղությունների նախնական ցուցիչ',\n   '173': '6.9.2 Ուղղության նախնական ցուցիչ',\n   '174': '6.9.3 Երթևեկության սխեմա',\n   '175': '6.10.1 Ուղղությունների ցուցիչ',\n   '176': '6.10.2 Ուղղության ցուցիչ',\n   '177': '6.11 Օբյեկտի անվանում',\n   '178': '6.12 Հեռավորությունների ցուցիչ',\n   '179': '6.13 Կիլոմետրային նշան',\n   '180': '6.14.1 Երթուղու համարը',\n   '181': '6.14.2 Երթուղու համարը',\n   '182': '6.15.1 Երթևեկության ուղղություն բեռնատար ավտոմոբիլների համար',\n   '183': '6.15.2 Երթևեկության ուղղություն բեռնատար ավտոմոբիլների համար',\n   '184': '6.15.3 Երթևեկության ուղղություն բեռնատար ավտոմոբիլների համար',\n   '185': '6.16 Կանգ-գիծ',\n   '186': '6.17 Շրջանցման սխեմա',\n   '187': '6.18.1 Շրջանցման ուղղություն',\n   '188': '6.18.2 Շրջանցման ուղղություն',\n   '189': '6.18.3 Շրջանցման ուղղություն',\n   '190': '6.19.1 Այլ երթևեկելի մաս վերադասավորվելու նախնական ցուցիչ',\n   '191': '6.19.2 Այլ երթևեկելի մաս վերադասավորվելու նախնական ցուցիչ',\n   '192': '7.1 Առաջին բժշկական օգնության կետ',\n   '193': '7.2 Հիվանդանոց',\n   '194': '7.3 Ավտոլցավորման կայան',\n   '195': '7.4 Ավտոմոբիլների տեխնիկական սպասարկում',\n   '196': '7.5 Ավտոմոբիլների լվացում',\n   '197': '7.6 Հեռախոս',\n   '198': '7.7 Սննդի կետ',\n   '199': '7.8 Խմելու ջուր',\n   '200': '7.9 Հյուրանոց կամ մոթել',\n   '201': '7.10 Հանգրվան',\n   '202': '7.11 Հանգստի վայր',\n   '203': '7.12 Ճանապարհային ոստիկանության ճանապարհապարեկային ծառայության պահակետ',\n   '204': '7.13 Ոստիկանություն',\n   '205': '7.14 Միջազգային ավտոմոբիլային փոխադրումների հսկման կետ',\n   '206': '7.15 Ճանապարհային երթևեկության մասին տեղեկություն հաղորդող ռադիոկայանի գործողության գոտի',\n   '207': '7.16 Վթարային ծառայությունների հետ ռադիոկապի գոտի',\n   '208': '7.17 Լողավազան կամ լողափ',\n   '209': '7.18 Զուգարան',\n   '210': '8.1.1 Հեռավորություն մինչև օբյեկտ',\n   '211': '8.1.2 Հեռավորություն մինչև օբյեկտ',\n   '212': '8.1.3 Հեռավորություն մինչև օբյեկտ',\n   '213': '8.1.4 Հեռավորություն մինչև օբյեկտ',\n   '214': '8.2.1 Ազդման գոտի',\n   '215': '8.2.2 Ազդման գոտի',\n   '216': '8.2.3 Ազդման գոտի',\n   '217': '8.2.4 Ազդման գոտի',\n   '218': '8.2.5 Ազդման գոտի',\n   '219': '8.2.6 Ազդման գոտի',\n   '220': '8.3.1 Ազդման ուղղություններ',\n   '221': '8.3.2 Ազդման ուղղություններ',\n   '222': '8.3.3 Ազդման ուղղություններ',\n   '223': '8.4.1 Տրանսպորտային միջոցի տեսակ',\n   '224': '8.4.2 Տրանսպորտային միջոցի տեսակ',\n   '225': '8.4.3 Տրանսպորտային միջոցի տեսակ',\n   '226': '8.4.4 Տրանսպորտային միջոցի տեսակ',\n   '227': '8.4.5 Տրանսպորտային միջոցի տեսակ',\n   '228': '8.4.6 Տրանսպորտային միջոցի տեսակ',\n   '229': '8.4.7 Տրանսպորտային միջոցի տեսակ',\n   '230': '8.4.8 Տրանսպորտային միջոցի տեսակ',\n   '231': '8.4.9 Տրանսպորտային միջոցի տեսակ',\n   '232': '8.5.1 Շաբաթ, կիրակի և տոն օրեր',\n   '233': '8.5.2 Աշխատանքային օրեր',\n   '234': '8.5.3 Շաբաթվա օրեր',\n   '235': '8.5.4 Գործողության ժամանակ',\n   '236': '8.5.5 Գործողության ժամանակ',\n   '237': '8.5.6 Գործողության ժամանակ',\n   '238': '8.5.7 Գործողության ժամանակ',\n   '239': '8.6.1 Տրանսպորտային միջոցի կանգնեցման ձևը կայանման տեղերում',\n   '240': '8.6.2 Տրանսպորտային միջոցի կանգնեցման ձևը կայանման տեղերում',\n   '241': '8.6.3 Տրանսպորտային միջոցի կանգնեցման ձևը կայանման տեղերում',\n   '242': '8.6.4 Տրանսպորտային միջոցի կանգնեցման ձևը կայանման տեղերում',\n   '243': '8.6.5 Տրանսպորտային միջոցի կանգնեցման ձևը կայանման տեղերում',\n   '244': '8.6.6 Տրանսպորտային միջոցի կանգնեցման ձևը կայանման տեղերում',\n   '245': '8.6.7 Տրանսպորտային միջոցի կանգնեցման ձևը կայանման տեղերում',\n   '246': '8.6.8 Տրանսպորտային միջոցի կանգնեցման ձևը կայանման տեղերում',\n   '247': '8.6.9 Տրանսպորտային միջոցի կանգնեցման ձևը կայանման տեղերում',\n   '248': '8.7 Կայանում չգործարկված շարժիչով',\n   '249': '8.8 Վճարովի ծառայություններ',\n   '250': '8.9 Կայանման տևողության սահմանափակում',\n   '251': '8.10 Ավտոմոբիլների զննման տեղ',\n   '252': '8.11 Թույլատրելի առավելագույն զանգվածի սահմանափակում',\n   '253': '8.12 Վտանգավոր կողնակ',\n   '254': '8.13 Գլխավոր ճանապարհի ուղղություն',\n   '255': '8.14 Երթևեկության գոտի',\n   '256': '8.15 Կույր հետիոտներ',\n   '257': '8.16 Խոնավ ծածկույթ',\n   '258': '8.17 Հաշմանդամներ',\n   '259': '8.18 Բացի հաշմանդամներից',\n   '260': '8.19 Վտանգավոր բեռի դասը',\n   '261': '8.20.1 Տրանսպորտային միջոցի սայլակի տեսակը',\n   '262': '8.20.2 Տրանսպորտային միջոցի սայլակի տեսակը',\n   '263': '8.21.1 Ընդհանուր օգտագործման տրանսպորտային միջոցի տեսակը',\n   '264': '8.21.2 Ընդհանուր օգտագործման տրանսպորտային միջոցի տեսակը',\n   '265': '8.21.3 Ընդհանուր օգտագործման տրանսպորտային միջոցի տեսակը',\n   '266': '8.22.1 Խոչընդոտ',\n   '267': '8.22.2 Խոչընդոտ',\n   '268': '8.22.3 Խոչընդոտ',\n   '51': '2.3.2 Երկրորդական ճանապարհի հարում',\n   '52': '2.3.3 Երկրորդական ճանապարհի հարում',\n   '53': '2.3.4 Երկրորդական ճանապարհի հարում',\n   '54': '2.3.5 Երկրորդական ճանապարհի հարում',\n   '55': '2.3.6 Երկրորդական ճանապարհի հարում',\n   '56': '2.3.7 Երկրորդական ճանապարհի հարում',\n   '114': '4.9 Ճանապարհ ձյունագնացների համար'}},\n {'road_surface': {'1': 'Asphalt-concrete',\n   '2': 'Cement-concrete',\n   '3': 'Cobblestone',\n   '4': 'Gravel base',\n   '5': 'Other'}},\n {'visibility': {'1': 'Clear day',\n   '2': 'Clear night',\n   '3': 'Foggy day',\n   '4': 'Foggy night',\n   '5': 'Sunny',\n   '6': 'Rainy',\n   '7': 'Snow',\n   '8': 'Hail'}},\n {'road_conditions': {'1': 'Dry',\n   '2': 'Wet',\n   '3': 'Snow',\n   '4': 'Ice',\n   '5': 'Covered with flattened snow',\n   '6': 'Other'}}]"
     },
     "execution_count": 2,
     "metadata": {},
     "output_type": "execute_result"
    }
   ],
   "source": [
    "import json\n",
    "with open('../data/processed/feature_decoding.json', 'r') as f:\n",
    "    features_decoding = json.load(f)\n",
    "features_decoding"
   ],
   "metadata": {
    "collapsed": false
   }
  },
  {
   "cell_type": "code",
   "execution_count": 3,
   "outputs": [],
   "source": [
    "df = pd.read_csv('../data/processed/data_bivac_filtered.csv')\n",
    "\n",
    "# data preprocessing\n",
    "cat_features = df.columns[df.columns.str.contains('id')]\n",
    "for cat_col in cat_features:\n",
    "    df[cat_col] = df[cat_col].astype(str)\n",
    "df.accident_date = pd.to_datetime(df.accident_date)"
   ],
   "metadata": {
    "collapsed": false
   }
  },
  {
   "cell_type": "code",
   "execution_count": 4,
   "outputs": [
    {
     "name": "stdout",
     "output_type": "stream",
     "text": [
      "<class 'pandas.core.frame.DataFrame'>\n",
      "RangeIndex: 18444 entries, 0 to 18443\n",
      "Data columns (total 16 columns):\n",
      " #   Column               Non-Null Count  Dtype                                \n",
      "---  ------               --------------  -----                                \n",
      " 0   compensation_status  18444 non-null  object                               \n",
      " 1   accident_id          18444 non-null  object                               \n",
      " 2   vehicle_id           18444 non-null  object                               \n",
      " 3   fd_decision          18444 non-null  object                               \n",
      " 4   circumstances        15657 non-null  object                               \n",
      " 5   road_signs           110 non-null    object                               \n",
      " 6   road_surface         18444 non-null  object                               \n",
      " 7   visibility           18444 non-null  object                               \n",
      " 8   road_conditions      18444 non-null  object                               \n",
      " 9   accident_date        18444 non-null  datetime64[ns, pytz.FixedOffset(240)]\n",
      " 10  address_id           18444 non-null  object                               \n",
      " 11  circumstances_id     18444 non-null  object                               \n",
      " 12  road_signs_id        18444 non-null  object                               \n",
      " 13  road_surface_id      18444 non-null  object                               \n",
      " 14  visibility_id        18444 non-null  object                               \n",
      " 15  road_conditions_id   18444 non-null  object                               \n",
      "dtypes: datetime64[ns, pytz.FixedOffset(240)](1), object(15)\n",
      "memory usage: 2.3+ MB\n"
     ]
    }
   ],
   "source": [
    "df.info()"
   ],
   "metadata": {
    "collapsed": false
   }
  },
  {
   "cell_type": "code",
   "execution_count": 5,
   "outputs": [
    {
     "data": {
      "text/plain": "  compensation_status accident_id vehicle_id fd_decision   circumstances  \\\n0       VALIDATED_EIF       16141    26245.0          NG             NaN   \n1       VALIDATED_EIF       16141    26244.0          FG           First   \n2       VALIDATED_EIF       16141    26244.0          FG  Direct traffic   \n3       VALIDATED_EIF       16141    26244.0          FG           Green   \n4       VALIDATED_EIF       16169    26324.0          NG           First   \n\n  road_signs      road_surface   visibility road_conditions  \\\n0        NaN  Asphalt-concrete  Clear night             Dry   \n1        NaN  Asphalt-concrete  Clear night             Dry   \n2        NaN  Asphalt-concrete  Clear night             Dry   \n3        NaN  Asphalt-concrete  Clear night             Dry   \n4        NaN  Asphalt-concrete    Clear day             Wet   \n\n              accident_date address_id circumstances_id road_signs_id  \\\n0 2020-02-01 01:30:00+04:00     141147              nan           nan   \n1 2020-02-01 01:30:00+04:00     141147              2.0           nan   \n2 2020-02-01 01:30:00+04:00     141147             12.0           nan   \n3 2020-02-01 01:30:00+04:00     141147             35.0           nan   \n4 2020-02-01 18:00:00+04:00     141548              2.0           nan   \n\n  road_surface_id visibility_id road_conditions_id  \n0             1.0           2.0                1.0  \n1             1.0           2.0                1.0  \n2             1.0           2.0                1.0  \n3             1.0           2.0                1.0  \n4             1.0           1.0                2.0  ",
      "text/html": "<div>\n<style scoped>\n    .dataframe tbody tr th:only-of-type {\n        vertical-align: middle;\n    }\n\n    .dataframe tbody tr th {\n        vertical-align: top;\n    }\n\n    .dataframe thead th {\n        text-align: right;\n    }\n</style>\n<table border=\"1\" class=\"dataframe\">\n  <thead>\n    <tr style=\"text-align: right;\">\n      <th></th>\n      <th>compensation_status</th>\n      <th>accident_id</th>\n      <th>vehicle_id</th>\n      <th>fd_decision</th>\n      <th>circumstances</th>\n      <th>road_signs</th>\n      <th>road_surface</th>\n      <th>visibility</th>\n      <th>road_conditions</th>\n      <th>accident_date</th>\n      <th>address_id</th>\n      <th>circumstances_id</th>\n      <th>road_signs_id</th>\n      <th>road_surface_id</th>\n      <th>visibility_id</th>\n      <th>road_conditions_id</th>\n    </tr>\n  </thead>\n  <tbody>\n    <tr>\n      <th>0</th>\n      <td>VALIDATED_EIF</td>\n      <td>16141</td>\n      <td>26245.0</td>\n      <td>NG</td>\n      <td>NaN</td>\n      <td>NaN</td>\n      <td>Asphalt-concrete</td>\n      <td>Clear night</td>\n      <td>Dry</td>\n      <td>2020-02-01 01:30:00+04:00</td>\n      <td>141147</td>\n      <td>nan</td>\n      <td>nan</td>\n      <td>1.0</td>\n      <td>2.0</td>\n      <td>1.0</td>\n    </tr>\n    <tr>\n      <th>1</th>\n      <td>VALIDATED_EIF</td>\n      <td>16141</td>\n      <td>26244.0</td>\n      <td>FG</td>\n      <td>First</td>\n      <td>NaN</td>\n      <td>Asphalt-concrete</td>\n      <td>Clear night</td>\n      <td>Dry</td>\n      <td>2020-02-01 01:30:00+04:00</td>\n      <td>141147</td>\n      <td>2.0</td>\n      <td>nan</td>\n      <td>1.0</td>\n      <td>2.0</td>\n      <td>1.0</td>\n    </tr>\n    <tr>\n      <th>2</th>\n      <td>VALIDATED_EIF</td>\n      <td>16141</td>\n      <td>26244.0</td>\n      <td>FG</td>\n      <td>Direct traffic</td>\n      <td>NaN</td>\n      <td>Asphalt-concrete</td>\n      <td>Clear night</td>\n      <td>Dry</td>\n      <td>2020-02-01 01:30:00+04:00</td>\n      <td>141147</td>\n      <td>12.0</td>\n      <td>nan</td>\n      <td>1.0</td>\n      <td>2.0</td>\n      <td>1.0</td>\n    </tr>\n    <tr>\n      <th>3</th>\n      <td>VALIDATED_EIF</td>\n      <td>16141</td>\n      <td>26244.0</td>\n      <td>FG</td>\n      <td>Green</td>\n      <td>NaN</td>\n      <td>Asphalt-concrete</td>\n      <td>Clear night</td>\n      <td>Dry</td>\n      <td>2020-02-01 01:30:00+04:00</td>\n      <td>141147</td>\n      <td>35.0</td>\n      <td>nan</td>\n      <td>1.0</td>\n      <td>2.0</td>\n      <td>1.0</td>\n    </tr>\n    <tr>\n      <th>4</th>\n      <td>VALIDATED_EIF</td>\n      <td>16169</td>\n      <td>26324.0</td>\n      <td>NG</td>\n      <td>First</td>\n      <td>NaN</td>\n      <td>Asphalt-concrete</td>\n      <td>Clear day</td>\n      <td>Wet</td>\n      <td>2020-02-01 18:00:00+04:00</td>\n      <td>141548</td>\n      <td>2.0</td>\n      <td>nan</td>\n      <td>1.0</td>\n      <td>1.0</td>\n      <td>2.0</td>\n    </tr>\n  </tbody>\n</table>\n</div>"
     },
     "execution_count": 5,
     "metadata": {},
     "output_type": "execute_result"
    }
   ],
   "source": [
    "df.head()"
   ],
   "metadata": {
    "collapsed": false
   }
  },
  {
   "cell_type": "code",
   "execution_count": 6,
   "outputs": [
    {
     "name": "stdout",
     "output_type": "stream",
     "text": [
      "Number of accidents: 4217\n",
      "Period: 2018-01-11 - 2021-07-19\n"
     ]
    }
   ],
   "source": [
    "print(f\"Number of accidents: {df.accident_id.nunique()}\")\n",
    "print(f\"Period: {df.accident_date.dt.date.min()} - {df.accident_date.dt.date.max()}\")"
   ],
   "metadata": {
    "collapsed": false
   }
  },
  {
   "cell_type": "code",
   "execution_count": 7,
   "outputs": [
    {
     "name": "stdout",
     "output_type": "stream",
     "text": [
      "Cardinality: 67\n"
     ]
    }
   ],
   "source": [
    "cat_features = ['circumstances', 'road_signs', 'road_surface', 'visibility', 'road_conditions']\n",
    "\n",
    "num_cardinality = 0\n",
    "dummy_col_names = []\n",
    "for feature in cat_features:\n",
    "    l_unique_vals = df[feature].unique()\n",
    "    n_unique_vals = len(l_unique_vals)\n",
    "    l_range_nunique = [i for i in range(n_unique_vals)] # noqa\n",
    "\n",
    "    num_cardinality += n_unique_vals\n",
    "    l_ind_value_name = [f\"{feature}_{i}\" for i in l_unique_vals]\n",
    "    dummy_col_names = dummy_col_names + l_ind_value_name\n",
    "\n",
    "\n",
    "print(f\"Cardinality: {num_cardinality}\")"
   ],
   "metadata": {
    "collapsed": false
   }
  },
  {
   "cell_type": "code",
   "execution_count": 8,
   "outputs": [
    {
     "name": "stdout",
     "output_type": "stream",
     "text": [
      "(18444, 71)\n"
     ]
    },
    {
     "data": {
      "text/plain": "            circumstances_Alarm signal  circumstances_Backward motion  \\\nvehicle_id                                                              \n26245.0                              0                              0   \n26244.0                              0                              0   \n26244.0                              0                              0   \n26244.0                              0                              0   \n26324.0                              0                              0   \n\n            circumstances_Beginning of traffic  circumstances_Breaking  \\\nvehicle_id                                                               \n26245.0                                      0                       0   \n26244.0                                      0                       0   \n26244.0                                      0                       0   \n26244.0                                      0                       0   \n26324.0                                      0                       0   \n\n            circumstances_Detour  circumstances_Direct traffic  \\\nvehicle_id                                                       \n26245.0                        0                             0   \n26244.0                        0                             0   \n26244.0                        0                             1   \n26244.0                        0                             0   \n26324.0                        0                             0   \n\n            circumstances_Fifth  circumstances_First  \\\nvehicle_id                                             \n26245.0                       0                    0   \n26244.0                       0                    1   \n26244.0                       0                    0   \n26244.0                       0                    0   \n26324.0                       0                    1   \n\n            circumstances_Fog lights  circumstances_Fourth  ...  \\\nvehicle_id                                                  ...   \n26245.0                            0                     0  ...   \n26244.0                            0                     0  ...   \n26244.0                            0                     0  ...   \n26244.0                            0                     0  ...   \n26324.0                            0                     0  ...   \n\n            road_conditions_Ice  road_conditions_Other  road_conditions_Snow  \\\nvehicle_id                                                                     \n26245.0                       0                      0                     0   \n26244.0                       0                      0                     0   \n26244.0                       0                      0                     0   \n26244.0                       0                      0                     0   \n26324.0                       0                      0                     0   \n\n            road_conditions_Wet  fd_decision_FG  fd_decision_NG  hour  \\\nvehicle_id                                                              \n26245.0                       0               0               1     1   \n26244.0                       0               1               0     1   \n26244.0                       0               1               0     1   \n26244.0                       0               1               0     1   \n26324.0                       1               0               1    18   \n\n            day_of_month  month  year  \nvehicle_id                             \n26245.0                1      2  2020  \n26244.0                1      2  2020  \n26244.0                1      2  2020  \n26244.0                1      2  2020  \n26324.0                1      2  2020  \n\n[5 rows x 71 columns]",
      "text/html": "<div>\n<style scoped>\n    .dataframe tbody tr th:only-of-type {\n        vertical-align: middle;\n    }\n\n    .dataframe tbody tr th {\n        vertical-align: top;\n    }\n\n    .dataframe thead th {\n        text-align: right;\n    }\n</style>\n<table border=\"1\" class=\"dataframe\">\n  <thead>\n    <tr style=\"text-align: right;\">\n      <th></th>\n      <th>circumstances_Alarm signal</th>\n      <th>circumstances_Backward motion</th>\n      <th>circumstances_Beginning of traffic</th>\n      <th>circumstances_Breaking</th>\n      <th>circumstances_Detour</th>\n      <th>circumstances_Direct traffic</th>\n      <th>circumstances_Fifth</th>\n      <th>circumstances_First</th>\n      <th>circumstances_Fog lights</th>\n      <th>circumstances_Fourth</th>\n      <th>...</th>\n      <th>road_conditions_Ice</th>\n      <th>road_conditions_Other</th>\n      <th>road_conditions_Snow</th>\n      <th>road_conditions_Wet</th>\n      <th>fd_decision_FG</th>\n      <th>fd_decision_NG</th>\n      <th>hour</th>\n      <th>day_of_month</th>\n      <th>month</th>\n      <th>year</th>\n    </tr>\n    <tr>\n      <th>vehicle_id</th>\n      <th></th>\n      <th></th>\n      <th></th>\n      <th></th>\n      <th></th>\n      <th></th>\n      <th></th>\n      <th></th>\n      <th></th>\n      <th></th>\n      <th></th>\n      <th></th>\n      <th></th>\n      <th></th>\n      <th></th>\n      <th></th>\n      <th></th>\n      <th></th>\n      <th></th>\n      <th></th>\n      <th></th>\n    </tr>\n  </thead>\n  <tbody>\n    <tr>\n      <th>26245.0</th>\n      <td>0</td>\n      <td>0</td>\n      <td>0</td>\n      <td>0</td>\n      <td>0</td>\n      <td>0</td>\n      <td>0</td>\n      <td>0</td>\n      <td>0</td>\n      <td>0</td>\n      <td>...</td>\n      <td>0</td>\n      <td>0</td>\n      <td>0</td>\n      <td>0</td>\n      <td>0</td>\n      <td>1</td>\n      <td>1</td>\n      <td>1</td>\n      <td>2</td>\n      <td>2020</td>\n    </tr>\n    <tr>\n      <th>26244.0</th>\n      <td>0</td>\n      <td>0</td>\n      <td>0</td>\n      <td>0</td>\n      <td>0</td>\n      <td>0</td>\n      <td>0</td>\n      <td>1</td>\n      <td>0</td>\n      <td>0</td>\n      <td>...</td>\n      <td>0</td>\n      <td>0</td>\n      <td>0</td>\n      <td>0</td>\n      <td>1</td>\n      <td>0</td>\n      <td>1</td>\n      <td>1</td>\n      <td>2</td>\n      <td>2020</td>\n    </tr>\n    <tr>\n      <th>26244.0</th>\n      <td>0</td>\n      <td>0</td>\n      <td>0</td>\n      <td>0</td>\n      <td>0</td>\n      <td>1</td>\n      <td>0</td>\n      <td>0</td>\n      <td>0</td>\n      <td>0</td>\n      <td>...</td>\n      <td>0</td>\n      <td>0</td>\n      <td>0</td>\n      <td>0</td>\n      <td>1</td>\n      <td>0</td>\n      <td>1</td>\n      <td>1</td>\n      <td>2</td>\n      <td>2020</td>\n    </tr>\n    <tr>\n      <th>26244.0</th>\n      <td>0</td>\n      <td>0</td>\n      <td>0</td>\n      <td>0</td>\n      <td>0</td>\n      <td>0</td>\n      <td>0</td>\n      <td>0</td>\n      <td>0</td>\n      <td>0</td>\n      <td>...</td>\n      <td>0</td>\n      <td>0</td>\n      <td>0</td>\n      <td>0</td>\n      <td>1</td>\n      <td>0</td>\n      <td>1</td>\n      <td>1</td>\n      <td>2</td>\n      <td>2020</td>\n    </tr>\n    <tr>\n      <th>26324.0</th>\n      <td>0</td>\n      <td>0</td>\n      <td>0</td>\n      <td>0</td>\n      <td>0</td>\n      <td>0</td>\n      <td>0</td>\n      <td>1</td>\n      <td>0</td>\n      <td>0</td>\n      <td>...</td>\n      <td>0</td>\n      <td>0</td>\n      <td>0</td>\n      <td>1</td>\n      <td>0</td>\n      <td>1</td>\n      <td>18</td>\n      <td>1</td>\n      <td>2</td>\n      <td>2020</td>\n    </tr>\n  </tbody>\n</table>\n<p>5 rows × 71 columns</p>\n</div>"
     },
     "execution_count": 8,
     "metadata": {},
     "output_type": "execute_result"
    }
   ],
   "source": [
    "# One hot encoding\n",
    "df_prep = pd.get_dummies(df, columns=cat_features + ['fd_decision'])\n",
    "\n",
    "# daytime features\n",
    "df_prep['hour'] = df_prep.accident_date.dt.hour\n",
    "df_prep['day_of_month'] = df_prep.accident_date.dt.day\n",
    "df_prep['month'] = df_prep.accident_date.dt.month\n",
    "df_prep['year'] = df_prep.accident_date.dt.year\n",
    "\n",
    "cols_to_drop = [f\"{col}_id\" for col in cat_features] + \\\n",
    "               [\n",
    "    'compensation_status',\n",
    "    'address_id',\n",
    "    'accident_date',\n",
    "    'accident_id'\n",
    "               ]\n",
    "\n",
    "df_prep = df_prep.drop(cols_to_drop, axis=1).set_index('vehicle_id')\n",
    "print(df_prep.shape)\n",
    "df_prep.head()"
   ],
   "metadata": {
    "collapsed": false
   }
  },
  {
   "cell_type": "markdown",
   "source": [
    "## Model trials"
   ],
   "metadata": {
    "collapsed": false
   }
  },
  {
   "cell_type": "code",
   "execution_count": 10,
   "outputs": [
    {
     "name": "stdout",
     "output_type": "stream",
     "text": [
      "(18444, 71)\n",
      "9011\n"
     ]
    }
   ],
   "source": [
    "print(df_prep.shape)\n",
    "print(df_prep.reset_index().vehicle_id.nunique())"
   ],
   "metadata": {
    "collapsed": false
   }
  },
  {
   "cell_type": "code",
   "execution_count": 11,
   "outputs": [
    {
     "data": {
      "text/plain": "            circumstances_Alarm signal  circumstances_Backward motion  \\\nvehicle_id                                                              \n26245.0                              0                              0   \n26244.0                              0                              0   \n26244.0                              0                              0   \n26244.0                              0                              0   \n26324.0                              0                              0   \n...                                ...                            ...   \n566531.0                             0                              0   \n566529.0                             0                              0   \n566529.0                             0                              0   \n566529.0                             0                              1   \n566529.0                             0                              0   \n\n            circumstances_Beginning of traffic  circumstances_Breaking  \\\nvehicle_id                                                               \n26245.0                                      0                       0   \n26244.0                                      0                       0   \n26244.0                                      0                       0   \n26244.0                                      0                       0   \n26324.0                                      0                       0   \n...                                        ...                     ...   \n566531.0                                     0                       0   \n566529.0                                     0                       0   \n566529.0                                     1                       0   \n566529.0                                     0                       0   \n566529.0                                     0                       0   \n\n            circumstances_Detour  circumstances_Direct traffic  \\\nvehicle_id                                                       \n26245.0                        0                             0   \n26244.0                        0                             0   \n26244.0                        0                             1   \n26244.0                        0                             0   \n26324.0                        0                             0   \n...                          ...                           ...   \n566531.0                       0                             0   \n566529.0                       0                             0   \n566529.0                       0                             0   \n566529.0                       0                             0   \n566529.0                       0                             0   \n\n            circumstances_Fifth  circumstances_First  \\\nvehicle_id                                             \n26245.0                       0                    0   \n26244.0                       0                    1   \n26244.0                       0                    0   \n26244.0                       0                    0   \n26324.0                       0                    1   \n...                         ...                  ...   \n566531.0                      0                    0   \n566529.0                      0                    0   \n566529.0                      0                    0   \n566529.0                      0                    0   \n566529.0                      0                    0   \n\n            circumstances_Fog lights  circumstances_Fourth  ...  \\\nvehicle_id                                                  ...   \n26245.0                            0                     0  ...   \n26244.0                            0                     0  ...   \n26244.0                            0                     0  ...   \n26244.0                            0                     0  ...   \n26324.0                            0                     0  ...   \n...                              ...                   ...  ...   \n566531.0                           0                     0  ...   \n566529.0                           0                     0  ...   \n566529.0                           0                     0  ...   \n566529.0                           0                     0  ...   \n566529.0                           0                     0  ...   \n\n            road_conditions_Ice  road_conditions_Other  road_conditions_Snow  \\\nvehicle_id                                                                     \n26245.0                       0                      0                     0   \n26244.0                       0                      0                     0   \n26244.0                       0                      0                     0   \n26244.0                       0                      0                     0   \n26324.0                       0                      0                     0   \n...                         ...                    ...                   ...   \n566531.0                      0                      0                     0   \n566529.0                      0                      0                     0   \n566529.0                      0                      0                     0   \n566529.0                      0                      0                     0   \n566529.0                      0                      0                     0   \n\n            road_conditions_Wet  fd_decision_FG  fd_decision_NG  hour  \\\nvehicle_id                                                              \n26245.0                       0               0               1     1   \n26244.0                       0               1               0     1   \n26244.0                       0               1               0     1   \n26244.0                       0               1               0     1   \n26324.0                       1               0               1    18   \n...                         ...             ...             ...   ...   \n566531.0                      0               0               1     1   \n566529.0                      0               1               0     1   \n566529.0                      0               1               0     1   \n566529.0                      0               1               0     1   \n566529.0                      0               1               0     1   \n\n            day_of_month  month  year  \nvehicle_id                             \n26245.0                1      2  2020  \n26244.0                1      2  2020  \n26244.0                1      2  2020  \n26244.0                1      2  2020  \n26324.0                1      2  2020  \n...                  ...    ...   ...  \n566531.0              19      7  2021  \n566529.0              19      7  2021  \n566529.0              19      7  2021  \n566529.0              19      7  2021  \n566529.0              19      7  2021  \n\n[18444 rows x 71 columns]",
      "text/html": "<div>\n<style scoped>\n    .dataframe tbody tr th:only-of-type {\n        vertical-align: middle;\n    }\n\n    .dataframe tbody tr th {\n        vertical-align: top;\n    }\n\n    .dataframe thead th {\n        text-align: right;\n    }\n</style>\n<table border=\"1\" class=\"dataframe\">\n  <thead>\n    <tr style=\"text-align: right;\">\n      <th></th>\n      <th>circumstances_Alarm signal</th>\n      <th>circumstances_Backward motion</th>\n      <th>circumstances_Beginning of traffic</th>\n      <th>circumstances_Breaking</th>\n      <th>circumstances_Detour</th>\n      <th>circumstances_Direct traffic</th>\n      <th>circumstances_Fifth</th>\n      <th>circumstances_First</th>\n      <th>circumstances_Fog lights</th>\n      <th>circumstances_Fourth</th>\n      <th>...</th>\n      <th>road_conditions_Ice</th>\n      <th>road_conditions_Other</th>\n      <th>road_conditions_Snow</th>\n      <th>road_conditions_Wet</th>\n      <th>fd_decision_FG</th>\n      <th>fd_decision_NG</th>\n      <th>hour</th>\n      <th>day_of_month</th>\n      <th>month</th>\n      <th>year</th>\n    </tr>\n    <tr>\n      <th>vehicle_id</th>\n      <th></th>\n      <th></th>\n      <th></th>\n      <th></th>\n      <th></th>\n      <th></th>\n      <th></th>\n      <th></th>\n      <th></th>\n      <th></th>\n      <th></th>\n      <th></th>\n      <th></th>\n      <th></th>\n      <th></th>\n      <th></th>\n      <th></th>\n      <th></th>\n      <th></th>\n      <th></th>\n      <th></th>\n    </tr>\n  </thead>\n  <tbody>\n    <tr>\n      <th>26245.0</th>\n      <td>0</td>\n      <td>0</td>\n      <td>0</td>\n      <td>0</td>\n      <td>0</td>\n      <td>0</td>\n      <td>0</td>\n      <td>0</td>\n      <td>0</td>\n      <td>0</td>\n      <td>...</td>\n      <td>0</td>\n      <td>0</td>\n      <td>0</td>\n      <td>0</td>\n      <td>0</td>\n      <td>1</td>\n      <td>1</td>\n      <td>1</td>\n      <td>2</td>\n      <td>2020</td>\n    </tr>\n    <tr>\n      <th>26244.0</th>\n      <td>0</td>\n      <td>0</td>\n      <td>0</td>\n      <td>0</td>\n      <td>0</td>\n      <td>0</td>\n      <td>0</td>\n      <td>1</td>\n      <td>0</td>\n      <td>0</td>\n      <td>...</td>\n      <td>0</td>\n      <td>0</td>\n      <td>0</td>\n      <td>0</td>\n      <td>1</td>\n      <td>0</td>\n      <td>1</td>\n      <td>1</td>\n      <td>2</td>\n      <td>2020</td>\n    </tr>\n    <tr>\n      <th>26244.0</th>\n      <td>0</td>\n      <td>0</td>\n      <td>0</td>\n      <td>0</td>\n      <td>0</td>\n      <td>1</td>\n      <td>0</td>\n      <td>0</td>\n      <td>0</td>\n      <td>0</td>\n      <td>...</td>\n      <td>0</td>\n      <td>0</td>\n      <td>0</td>\n      <td>0</td>\n      <td>1</td>\n      <td>0</td>\n      <td>1</td>\n      <td>1</td>\n      <td>2</td>\n      <td>2020</td>\n    </tr>\n    <tr>\n      <th>26244.0</th>\n      <td>0</td>\n      <td>0</td>\n      <td>0</td>\n      <td>0</td>\n      <td>0</td>\n      <td>0</td>\n      <td>0</td>\n      <td>0</td>\n      <td>0</td>\n      <td>0</td>\n      <td>...</td>\n      <td>0</td>\n      <td>0</td>\n      <td>0</td>\n      <td>0</td>\n      <td>1</td>\n      <td>0</td>\n      <td>1</td>\n      <td>1</td>\n      <td>2</td>\n      <td>2020</td>\n    </tr>\n    <tr>\n      <th>26324.0</th>\n      <td>0</td>\n      <td>0</td>\n      <td>0</td>\n      <td>0</td>\n      <td>0</td>\n      <td>0</td>\n      <td>0</td>\n      <td>1</td>\n      <td>0</td>\n      <td>0</td>\n      <td>...</td>\n      <td>0</td>\n      <td>0</td>\n      <td>0</td>\n      <td>1</td>\n      <td>0</td>\n      <td>1</td>\n      <td>18</td>\n      <td>1</td>\n      <td>2</td>\n      <td>2020</td>\n    </tr>\n    <tr>\n      <th>...</th>\n      <td>...</td>\n      <td>...</td>\n      <td>...</td>\n      <td>...</td>\n      <td>...</td>\n      <td>...</td>\n      <td>...</td>\n      <td>...</td>\n      <td>...</td>\n      <td>...</td>\n      <td>...</td>\n      <td>...</td>\n      <td>...</td>\n      <td>...</td>\n      <td>...</td>\n      <td>...</td>\n      <td>...</td>\n      <td>...</td>\n      <td>...</td>\n      <td>...</td>\n      <td>...</td>\n    </tr>\n    <tr>\n      <th>566531.0</th>\n      <td>0</td>\n      <td>0</td>\n      <td>0</td>\n      <td>0</td>\n      <td>0</td>\n      <td>0</td>\n      <td>0</td>\n      <td>0</td>\n      <td>0</td>\n      <td>0</td>\n      <td>...</td>\n      <td>0</td>\n      <td>0</td>\n      <td>0</td>\n      <td>0</td>\n      <td>0</td>\n      <td>1</td>\n      <td>1</td>\n      <td>19</td>\n      <td>7</td>\n      <td>2021</td>\n    </tr>\n    <tr>\n      <th>566529.0</th>\n      <td>0</td>\n      <td>0</td>\n      <td>0</td>\n      <td>0</td>\n      <td>0</td>\n      <td>0</td>\n      <td>0</td>\n      <td>0</td>\n      <td>0</td>\n      <td>0</td>\n      <td>...</td>\n      <td>0</td>\n      <td>0</td>\n      <td>0</td>\n      <td>0</td>\n      <td>1</td>\n      <td>0</td>\n      <td>1</td>\n      <td>19</td>\n      <td>7</td>\n      <td>2021</td>\n    </tr>\n    <tr>\n      <th>566529.0</th>\n      <td>0</td>\n      <td>0</td>\n      <td>1</td>\n      <td>0</td>\n      <td>0</td>\n      <td>0</td>\n      <td>0</td>\n      <td>0</td>\n      <td>0</td>\n      <td>0</td>\n      <td>...</td>\n      <td>0</td>\n      <td>0</td>\n      <td>0</td>\n      <td>0</td>\n      <td>1</td>\n      <td>0</td>\n      <td>1</td>\n      <td>19</td>\n      <td>7</td>\n      <td>2021</td>\n    </tr>\n    <tr>\n      <th>566529.0</th>\n      <td>0</td>\n      <td>1</td>\n      <td>0</td>\n      <td>0</td>\n      <td>0</td>\n      <td>0</td>\n      <td>0</td>\n      <td>0</td>\n      <td>0</td>\n      <td>0</td>\n      <td>...</td>\n      <td>0</td>\n      <td>0</td>\n      <td>0</td>\n      <td>0</td>\n      <td>1</td>\n      <td>0</td>\n      <td>1</td>\n      <td>19</td>\n      <td>7</td>\n      <td>2021</td>\n    </tr>\n    <tr>\n      <th>566529.0</th>\n      <td>0</td>\n      <td>0</td>\n      <td>0</td>\n      <td>0</td>\n      <td>0</td>\n      <td>0</td>\n      <td>0</td>\n      <td>0</td>\n      <td>0</td>\n      <td>0</td>\n      <td>...</td>\n      <td>0</td>\n      <td>0</td>\n      <td>0</td>\n      <td>0</td>\n      <td>1</td>\n      <td>0</td>\n      <td>1</td>\n      <td>19</td>\n      <td>7</td>\n      <td>2021</td>\n    </tr>\n  </tbody>\n</table>\n<p>18444 rows × 71 columns</p>\n</div>"
     },
     "execution_count": 11,
     "metadata": {},
     "output_type": "execute_result"
    }
   ],
   "source": [
    "df_prep"
   ],
   "metadata": {
    "collapsed": false
   }
  },
  {
   "cell_type": "code",
   "execution_count": 12,
   "outputs": [
    {
     "data": {
      "text/plain": "  vehicle_id  circumstances_Alarm signal  circumstances_Backward motion  \\\n1    26244.0                           0                              0   \n2    26244.0                           0                              0   \n3    26244.0                           0                              0   \n\n   circumstances_Beginning of traffic  circumstances_Breaking  \\\n1                                   0                       0   \n2                                   0                       0   \n3                                   0                       0   \n\n   circumstances_Detour  circumstances_Direct traffic  circumstances_Fifth  \\\n1                     0                             0                    0   \n2                     0                             1                    0   \n3                     0                             0                    0   \n\n   circumstances_First  circumstances_Fog lights  ...  road_conditions_Ice  \\\n1                    1                         0  ...                    0   \n2                    0                         0  ...                    0   \n3                    0                         0  ...                    0   \n\n   road_conditions_Other  road_conditions_Snow  road_conditions_Wet  \\\n1                      0                     0                    0   \n2                      0                     0                    0   \n3                      0                     0                    0   \n\n   fd_decision_FG  fd_decision_NG  hour  day_of_month  month  year  \n1               1               0     1             1      2  2020  \n2               1               0     1             1      2  2020  \n3               1               0     1             1      2  2020  \n\n[3 rows x 72 columns]",
      "text/html": "<div>\n<style scoped>\n    .dataframe tbody tr th:only-of-type {\n        vertical-align: middle;\n    }\n\n    .dataframe tbody tr th {\n        vertical-align: top;\n    }\n\n    .dataframe thead th {\n        text-align: right;\n    }\n</style>\n<table border=\"1\" class=\"dataframe\">\n  <thead>\n    <tr style=\"text-align: right;\">\n      <th></th>\n      <th>vehicle_id</th>\n      <th>circumstances_Alarm signal</th>\n      <th>circumstances_Backward motion</th>\n      <th>circumstances_Beginning of traffic</th>\n      <th>circumstances_Breaking</th>\n      <th>circumstances_Detour</th>\n      <th>circumstances_Direct traffic</th>\n      <th>circumstances_Fifth</th>\n      <th>circumstances_First</th>\n      <th>circumstances_Fog lights</th>\n      <th>...</th>\n      <th>road_conditions_Ice</th>\n      <th>road_conditions_Other</th>\n      <th>road_conditions_Snow</th>\n      <th>road_conditions_Wet</th>\n      <th>fd_decision_FG</th>\n      <th>fd_decision_NG</th>\n      <th>hour</th>\n      <th>day_of_month</th>\n      <th>month</th>\n      <th>year</th>\n    </tr>\n  </thead>\n  <tbody>\n    <tr>\n      <th>1</th>\n      <td>26244.0</td>\n      <td>0</td>\n      <td>0</td>\n      <td>0</td>\n      <td>0</td>\n      <td>0</td>\n      <td>0</td>\n      <td>0</td>\n      <td>1</td>\n      <td>0</td>\n      <td>...</td>\n      <td>0</td>\n      <td>0</td>\n      <td>0</td>\n      <td>0</td>\n      <td>1</td>\n      <td>0</td>\n      <td>1</td>\n      <td>1</td>\n      <td>2</td>\n      <td>2020</td>\n    </tr>\n    <tr>\n      <th>2</th>\n      <td>26244.0</td>\n      <td>0</td>\n      <td>0</td>\n      <td>0</td>\n      <td>0</td>\n      <td>0</td>\n      <td>1</td>\n      <td>0</td>\n      <td>0</td>\n      <td>0</td>\n      <td>...</td>\n      <td>0</td>\n      <td>0</td>\n      <td>0</td>\n      <td>0</td>\n      <td>1</td>\n      <td>0</td>\n      <td>1</td>\n      <td>1</td>\n      <td>2</td>\n      <td>2020</td>\n    </tr>\n    <tr>\n      <th>3</th>\n      <td>26244.0</td>\n      <td>0</td>\n      <td>0</td>\n      <td>0</td>\n      <td>0</td>\n      <td>0</td>\n      <td>0</td>\n      <td>0</td>\n      <td>0</td>\n      <td>0</td>\n      <td>...</td>\n      <td>0</td>\n      <td>0</td>\n      <td>0</td>\n      <td>0</td>\n      <td>1</td>\n      <td>0</td>\n      <td>1</td>\n      <td>1</td>\n      <td>2</td>\n      <td>2020</td>\n    </tr>\n  </tbody>\n</table>\n<p>3 rows × 72 columns</p>\n</div>"
     },
     "execution_count": 12,
     "metadata": {},
     "output_type": "execute_result"
    }
   ],
   "source": [
    "a = df_prep.reset_index()\n",
    "a[a.vehicle_id == '26244.0']"
   ],
   "metadata": {
    "collapsed": false
   }
  },
  {
   "cell_type": "code",
   "execution_count": 39,
   "outputs": [
    {
     "data": {
      "text/plain": "      accident_id vehicle_id             accident_date  \\\n0           16141    26245.0 2020-02-01 01:30:00+04:00   \n1           16141    26244.0 2020-02-01 01:30:00+04:00   \n2           16141    26244.0 2020-02-01 01:30:00+04:00   \n3           16141    26244.0 2020-02-01 01:30:00+04:00   \n4           16169    26324.0 2020-02-01 18:00:00+04:00   \n...           ...        ...                       ...   \n18439      188892   566531.0 2021-07-19 01:40:00+04:00   \n18440      188892   566529.0 2021-07-19 01:40:00+04:00   \n18441      188892   566529.0 2021-07-19 01:40:00+04:00   \n18442      188892   566529.0 2021-07-19 01:40:00+04:00   \n18443      188892   566529.0 2021-07-19 01:40:00+04:00   \n\n       circumstances_Alarm signal  circumstances_Backward motion  \\\n0                               0                              0   \n1                               0                              0   \n2                               0                              0   \n3                               0                              0   \n4                               0                              0   \n...                           ...                            ...   \n18439                           0                              0   \n18440                           0                              0   \n18441                           0                              0   \n18442                           0                              1   \n18443                           0                              0   \n\n       circumstances_Beginning of traffic  circumstances_Breaking  \\\n0                                       0                       0   \n1                                       0                       0   \n2                                       0                       0   \n3                                       0                       0   \n4                                       0                       0   \n...                                   ...                     ...   \n18439                                   0                       0   \n18440                                   0                       0   \n18441                                   1                       0   \n18442                                   0                       0   \n18443                                   0                       0   \n\n       circumstances_Detour  circumstances_Direct traffic  \\\n0                         0                             0   \n1                         0                             0   \n2                         0                             1   \n3                         0                             0   \n4                         0                             0   \n...                     ...                           ...   \n18439                     0                             0   \n18440                     0                             0   \n18441                     0                             0   \n18442                     0                             0   \n18443                     0                             0   \n\n       circumstances_Fifth  ...  road_conditions_Ice  road_conditions_Other  \\\n0                        0  ...                    0                      0   \n1                        0  ...                    0                      0   \n2                        0  ...                    0                      0   \n3                        0  ...                    0                      0   \n4                        0  ...                    0                      0   \n...                    ...  ...                  ...                    ...   \n18439                    0  ...                    0                      0   \n18440                    0  ...                    0                      0   \n18441                    0  ...                    0                      0   \n18442                    0  ...                    0                      0   \n18443                    0  ...                    0                      0   \n\n       road_conditions_Snow  road_conditions_Wet  fd_decision_FG  \\\n0                         0                    0               0   \n1                         0                    0               1   \n2                         0                    0               1   \n3                         0                    0               1   \n4                         0                    1               0   \n...                     ...                  ...             ...   \n18439                     0                    0               0   \n18440                     0                    0               1   \n18441                     0                    0               1   \n18442                     0                    0               1   \n18443                     0                    0               1   \n\n       fd_decision_NG  hour  day_of_month  month  year  \n0                   1     1             1      2  2020  \n1                   0     1             1      2  2020  \n2                   0     1             1      2  2020  \n3                   0     1             1      2  2020  \n4                   1    18             1      2  2020  \n...               ...   ...           ...    ...   ...  \n18439               1     1            19      7  2021  \n18440               0     1            19      7  2021  \n18441               0     1            19      7  2021  \n18442               0     1            19      7  2021  \n18443               0     1            19      7  2021  \n\n[18444 rows x 74 columns]",
      "text/html": "<div>\n<style scoped>\n    .dataframe tbody tr th:only-of-type {\n        vertical-align: middle;\n    }\n\n    .dataframe tbody tr th {\n        vertical-align: top;\n    }\n\n    .dataframe thead th {\n        text-align: right;\n    }\n</style>\n<table border=\"1\" class=\"dataframe\">\n  <thead>\n    <tr style=\"text-align: right;\">\n      <th></th>\n      <th>accident_id</th>\n      <th>vehicle_id</th>\n      <th>accident_date</th>\n      <th>circumstances_Alarm signal</th>\n      <th>circumstances_Backward motion</th>\n      <th>circumstances_Beginning of traffic</th>\n      <th>circumstances_Breaking</th>\n      <th>circumstances_Detour</th>\n      <th>circumstances_Direct traffic</th>\n      <th>circumstances_Fifth</th>\n      <th>...</th>\n      <th>road_conditions_Ice</th>\n      <th>road_conditions_Other</th>\n      <th>road_conditions_Snow</th>\n      <th>road_conditions_Wet</th>\n      <th>fd_decision_FG</th>\n      <th>fd_decision_NG</th>\n      <th>hour</th>\n      <th>day_of_month</th>\n      <th>month</th>\n      <th>year</th>\n    </tr>\n  </thead>\n  <tbody>\n    <tr>\n      <th>0</th>\n      <td>16141</td>\n      <td>26245.0</td>\n      <td>2020-02-01 01:30:00+04:00</td>\n      <td>0</td>\n      <td>0</td>\n      <td>0</td>\n      <td>0</td>\n      <td>0</td>\n      <td>0</td>\n      <td>0</td>\n      <td>...</td>\n      <td>0</td>\n      <td>0</td>\n      <td>0</td>\n      <td>0</td>\n      <td>0</td>\n      <td>1</td>\n      <td>1</td>\n      <td>1</td>\n      <td>2</td>\n      <td>2020</td>\n    </tr>\n    <tr>\n      <th>1</th>\n      <td>16141</td>\n      <td>26244.0</td>\n      <td>2020-02-01 01:30:00+04:00</td>\n      <td>0</td>\n      <td>0</td>\n      <td>0</td>\n      <td>0</td>\n      <td>0</td>\n      <td>0</td>\n      <td>0</td>\n      <td>...</td>\n      <td>0</td>\n      <td>0</td>\n      <td>0</td>\n      <td>0</td>\n      <td>1</td>\n      <td>0</td>\n      <td>1</td>\n      <td>1</td>\n      <td>2</td>\n      <td>2020</td>\n    </tr>\n    <tr>\n      <th>2</th>\n      <td>16141</td>\n      <td>26244.0</td>\n      <td>2020-02-01 01:30:00+04:00</td>\n      <td>0</td>\n      <td>0</td>\n      <td>0</td>\n      <td>0</td>\n      <td>0</td>\n      <td>1</td>\n      <td>0</td>\n      <td>...</td>\n      <td>0</td>\n      <td>0</td>\n      <td>0</td>\n      <td>0</td>\n      <td>1</td>\n      <td>0</td>\n      <td>1</td>\n      <td>1</td>\n      <td>2</td>\n      <td>2020</td>\n    </tr>\n    <tr>\n      <th>3</th>\n      <td>16141</td>\n      <td>26244.0</td>\n      <td>2020-02-01 01:30:00+04:00</td>\n      <td>0</td>\n      <td>0</td>\n      <td>0</td>\n      <td>0</td>\n      <td>0</td>\n      <td>0</td>\n      <td>0</td>\n      <td>...</td>\n      <td>0</td>\n      <td>0</td>\n      <td>0</td>\n      <td>0</td>\n      <td>1</td>\n      <td>0</td>\n      <td>1</td>\n      <td>1</td>\n      <td>2</td>\n      <td>2020</td>\n    </tr>\n    <tr>\n      <th>4</th>\n      <td>16169</td>\n      <td>26324.0</td>\n      <td>2020-02-01 18:00:00+04:00</td>\n      <td>0</td>\n      <td>0</td>\n      <td>0</td>\n      <td>0</td>\n      <td>0</td>\n      <td>0</td>\n      <td>0</td>\n      <td>...</td>\n      <td>0</td>\n      <td>0</td>\n      <td>0</td>\n      <td>1</td>\n      <td>0</td>\n      <td>1</td>\n      <td>18</td>\n      <td>1</td>\n      <td>2</td>\n      <td>2020</td>\n    </tr>\n    <tr>\n      <th>...</th>\n      <td>...</td>\n      <td>...</td>\n      <td>...</td>\n      <td>...</td>\n      <td>...</td>\n      <td>...</td>\n      <td>...</td>\n      <td>...</td>\n      <td>...</td>\n      <td>...</td>\n      <td>...</td>\n      <td>...</td>\n      <td>...</td>\n      <td>...</td>\n      <td>...</td>\n      <td>...</td>\n      <td>...</td>\n      <td>...</td>\n      <td>...</td>\n      <td>...</td>\n      <td>...</td>\n    </tr>\n    <tr>\n      <th>18439</th>\n      <td>188892</td>\n      <td>566531.0</td>\n      <td>2021-07-19 01:40:00+04:00</td>\n      <td>0</td>\n      <td>0</td>\n      <td>0</td>\n      <td>0</td>\n      <td>0</td>\n      <td>0</td>\n      <td>0</td>\n      <td>...</td>\n      <td>0</td>\n      <td>0</td>\n      <td>0</td>\n      <td>0</td>\n      <td>0</td>\n      <td>1</td>\n      <td>1</td>\n      <td>19</td>\n      <td>7</td>\n      <td>2021</td>\n    </tr>\n    <tr>\n      <th>18440</th>\n      <td>188892</td>\n      <td>566529.0</td>\n      <td>2021-07-19 01:40:00+04:00</td>\n      <td>0</td>\n      <td>0</td>\n      <td>0</td>\n      <td>0</td>\n      <td>0</td>\n      <td>0</td>\n      <td>0</td>\n      <td>...</td>\n      <td>0</td>\n      <td>0</td>\n      <td>0</td>\n      <td>0</td>\n      <td>1</td>\n      <td>0</td>\n      <td>1</td>\n      <td>19</td>\n      <td>7</td>\n      <td>2021</td>\n    </tr>\n    <tr>\n      <th>18441</th>\n      <td>188892</td>\n      <td>566529.0</td>\n      <td>2021-07-19 01:40:00+04:00</td>\n      <td>0</td>\n      <td>0</td>\n      <td>1</td>\n      <td>0</td>\n      <td>0</td>\n      <td>0</td>\n      <td>0</td>\n      <td>...</td>\n      <td>0</td>\n      <td>0</td>\n      <td>0</td>\n      <td>0</td>\n      <td>1</td>\n      <td>0</td>\n      <td>1</td>\n      <td>19</td>\n      <td>7</td>\n      <td>2021</td>\n    </tr>\n    <tr>\n      <th>18442</th>\n      <td>188892</td>\n      <td>566529.0</td>\n      <td>2021-07-19 01:40:00+04:00</td>\n      <td>0</td>\n      <td>1</td>\n      <td>0</td>\n      <td>0</td>\n      <td>0</td>\n      <td>0</td>\n      <td>0</td>\n      <td>...</td>\n      <td>0</td>\n      <td>0</td>\n      <td>0</td>\n      <td>0</td>\n      <td>1</td>\n      <td>0</td>\n      <td>1</td>\n      <td>19</td>\n      <td>7</td>\n      <td>2021</td>\n    </tr>\n    <tr>\n      <th>18443</th>\n      <td>188892</td>\n      <td>566529.0</td>\n      <td>2021-07-19 01:40:00+04:00</td>\n      <td>0</td>\n      <td>0</td>\n      <td>0</td>\n      <td>0</td>\n      <td>0</td>\n      <td>0</td>\n      <td>0</td>\n      <td>...</td>\n      <td>0</td>\n      <td>0</td>\n      <td>0</td>\n      <td>0</td>\n      <td>1</td>\n      <td>0</td>\n      <td>1</td>\n      <td>19</td>\n      <td>7</td>\n      <td>2021</td>\n    </tr>\n  </tbody>\n</table>\n<p>18444 rows × 74 columns</p>\n</div>"
     },
     "execution_count": 39,
     "metadata": {},
     "output_type": "execute_result"
    }
   ],
   "source": [
    "from sklearn.tree import DecisionTreeClassifier\n",
    "\n",
    "\n",
    "X_train, X_test, y_train, y_test = train_test_split(\n",
    "    cancer.data, cancer.target, stratify=cancer.target, random_state=42)\n",
    "tree = DecisionTreeClassifier(random_state=0)\n",
    "tree.fit(X_train, y_train)\n",
    "print(\"Accuracy on training set: {:.3f}\".format(tree.score(X_train, y_train)))\n",
    "print(\"Accuracy on test set: {:.3f}\".format(tree.score(X_test, y_test)))"
   ],
   "metadata": {
    "collapsed": false
   }
  },
  {
   "cell_type": "code",
   "execution_count": 32,
   "outputs": [
    {
     "data": {
      "text/plain": "VALIDATED_EIF    18444\nName: compensation_status, dtype: int64"
     },
     "execution_count": 32,
     "metadata": {},
     "output_type": "execute_result"
    }
   ],
   "source": [
    "df_prep_dummy.compensation_status.value_counts()"
   ],
   "metadata": {
    "collapsed": false
   }
  }
 ],
 "metadata": {
  "kernelspec": {
   "display_name": "Python 3",
   "language": "python",
   "name": "python3"
  },
  "language_info": {
   "codemirror_mode": {
    "name": "ipython",
    "version": 2
   },
   "file_extension": ".py",
   "mimetype": "text/x-python",
   "name": "python",
   "nbconvert_exporter": "python",
   "pygments_lexer": "ipython2",
   "version": "2.7.6"
  }
 },
 "nbformat": 4,
 "nbformat_minor": 0
}
